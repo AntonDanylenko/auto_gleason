{
 "cells": [
  {
   "cell_type": "code",
   "execution_count": 1,
   "metadata": {},
   "outputs": [],
   "source": [
    "from lib.load import *\n",
    "from lib.merged_dataset import *\n",
    "from lib.thumbnail import *\n",
    "from lib.globals import *\n",
    "from torch.utils.data import DataLoader\n",
    "import matplotlib.pyplot as plt\n",
    "import pickle"
   ]
  },
  {
   "cell_type": "code",
   "execution_count": 2,
   "metadata": {},
   "outputs": [],
   "source": [
    "train_img_names, val_img_names, test_img_names, thumbnails_dict = load()"
   ]
  },
  {
   "cell_type": "code",
   "execution_count": 3,
   "metadata": {},
   "outputs": [
    {
     "name": "stderr",
     "output_type": "stream",
     "text": [
      "Make Slide Dict: 100%|██████████| 4402/4402 [00:06<00:00, 723.44it/s]\n"
     ]
    },
    {
     "name": "stdout",
     "output_type": "stream",
     "text": [
      "[INFO] found 256 samples in the merged training set...\n"
     ]
    }
   ],
   "source": [
    "# determine the device to be used for training and evaluation\n",
    "DEVICE = \"cuda\" if torch.cuda.is_available() else \"cpu\"\n",
    "# print(DEVICE)\n",
    "# # determine if we will be pinning memory during data loading\n",
    "# PIN_MEMORY = True if DEVICE == \"cuda\" else False\n",
    "\n",
    "# create the train and validation datasets\n",
    "trainDS = MergedDataset(wsi_names=train_img_names, mask_thumbnails=thumbnails_dict, pseudo_epoch_length=NUM_PSEUDO_EPOCHS)\n",
    "# valDS = MergedDataset(wsi_names=val_img_names, mask_thumbnails=thumbnails_dict, pseudo_epoch_length=NUM_PSEUDO_EPOCHS)\n",
    "print(f\"[INFO] found {len(trainDS)} samples in the merged training set...\")\n",
    "# print(f\"[INFO] found {len(valDS)} samples in the merged validation set...\")\n",
    "\n",
    "# create the training and validation data loaders\n",
    "trainLoader = DataLoader(trainDS, shuffle=True,\n",
    "    batch_size=BATCH_SIZE, num_workers=4)\n",
    "# valLoader = DataLoader(valDS, shuffle=False,\n",
    "#     batch_size=BATCH_SIZE, num_workers=4)"
   ]
  },
  {
   "cell_type": "code",
   "execution_count": 4,
   "metadata": {},
   "outputs": [
    {
     "name": "stderr",
     "output_type": "stream",
     "text": [
      "100%|██████████| 10/10 [01:57<00:00, 11.76s/it]\n"
     ]
    },
    {
     "name": "stdout",
     "output_type": "stream",
     "text": [
      "tensor([0, 0, 0,  ..., 1, 1, 1], dtype=torch.int16)\n",
      "tensor([ 764481893,  751793063, 1168079604])\n"
     ]
    }
   ],
   "source": [
    "accumulated = torch.empty(0, dtype=torch.int8)\n",
    "for e in tqdm(range(10)):\n",
    "    # loop over the training set\n",
    "    for (x, y) in trainLoader:\n",
    "        accumulated = torch.cat((accumulated,y.flatten()))\n",
    "        # print(y.flatten())\n",
    "        # print(torch.bincount(y.flatten()))\n",
    "    \n",
    "    # Resample the pseudo epoch and refresh data loader\n",
    "    trainDS.resample_pseudo_epoch()\n",
    "    trainLoader = DataLoader(trainDS, shuffle=True,\n",
    "                            batch_size=BATCH_SIZE, num_workers=4)\n",
    "\n",
    "print(accumulated)\n",
    "counts = torch.bincount(accumulated)\n",
    "print(counts)"
   ]
  },
  {
   "cell_type": "code",
   "execution_count": 5,
   "metadata": {},
   "outputs": [
    {
     "data": {
      "image/png": "[encoded data removed]",
      "text/plain": [
       "<Figure size 576x576 with 1 Axes>"
      ]
     },
     "metadata": {
      "needs_background": "light"
     },
     "output_type": "display_data"
    }
   ],
   "source": [
    "total = torch.sum(counts)\n",
    "\n",
    "figure, ax = plt.subplots(1,1,figsize=(8,8))\n",
    "x = np.arange(len(counts))\n",
    "\n",
    "labels = [\"Background\", \"Benign\", \"Cancerous\"]\n",
    "\n",
    "ax.bar(x,counts/total)\n",
    "ax.set_xticks(x)\n",
    "ax.set_xticklabels(labels)\n",
    "\n",
    "plt.show()"
   ]
  }
 ],
 "metadata": {
  "kernelspec": {
   "display_name": "Python 3.8.10 ('env': venv)",
   "language": "python",
   "name": "python3"
  },
  "language_info": {
   "codemirror_mode": {
    "name": "ipython",
    "version": 3
   },
   "file_extension": ".py",
   "mimetype": "text/x-python",
   "name": "python",
   "nbconvert_exporter": "python",
   "pygments_lexer": "ipython3",
   "version": "3.8.10"
  },
  "orig_nbformat": 4,
  "vscode": {
   "interpreter": {
    "hash": "de4631684bd2c882b6b797b2a828f7be340f598e9083880a321a8ea7c6fac874"
   }
  }
 },
 "nbformat": 4,
 "nbformat_minor": 2
}
