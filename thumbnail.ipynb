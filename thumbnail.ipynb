{
 "cells": [
  {
   "cell_type": "markdown",
   "metadata": {},
   "source": [
    "# Mask Thumbnail Dictionary Creator"
   ]
  },
  {
   "cell_type": "markdown",
   "metadata": {},
   "source": [
    "## Imports"
   ]
  },
  {
   "cell_type": "code",
   "execution_count": 1,
   "metadata": {},
   "outputs": [],
   "source": [
    "import pickle\n",
    "import matplotlib.pyplot as plt\n",
    "import numpy as np\n",
    "import openslide\n",
    "import os\n",
    "import pandas as pd\n",
    "from torchvision import transforms\n",
    "import torch"
   ]
  },
  {
   "cell_type": "markdown",
   "metadata": {},
   "source": [
    "## Create Thumbnail Dictionary"
   ]
  },
  {
   "cell_type": "code",
   "execution_count": 2,
   "metadata": {},
   "outputs": [],
   "source": [
    "# define the input image dimensions\n",
    "PATCH_WIDTH = 256\n",
    "PATCH_HEIGHT = 256\n",
    "\n",
    "# Location of the training images\n",
    "DATA_PATH = '../../ganz/data/panda_dataset'\n",
    "\n",
    "# mask directory\n",
    "mask_dir = f'{DATA_PATH}/train_label_masks'\n",
    "\n",
    "# Location of training labels\n",
    "train = pd.read_csv(f'{DATA_PATH}/train.csv').set_index('image_id')\n",
    "\n",
    "# List of wsi names\n",
    "wsi_names = list(train.index)"
   ]
  },
  {
   "cell_type": "code",
   "execution_count": 3,
   "metadata": {},
   "outputs": [],
   "source": [
    "# Create thumbnails dictionary\n",
    "thumbnails = {}\n",
    "\n",
    "# Initialize transformation for each mask\n",
    "transformations = transforms.Compose([transforms.ToTensor()])\n",
    "\n",
    "# Get thumbnail of each wsi mask and add it as an array to the dictionary\n",
    "for wsi_name in wsi_names:\n",
    "  mask_path = os.path.join(mask_dir, f'{wsi_name}_mask.tiff')\n",
    "  if os.path.exists(mask_path):\n",
    "    mask = openslide.OpenSlide(mask_path)\n",
    "    width, height = mask.dimensions\n",
    "    thumbnail = mask.get_thumbnail((width/PATCH_WIDTH, height/PATCH_HEIGHT))\n",
    "    \n",
    "    arr = np.array(thumbnail)[:, :, 0]\n",
    "    \n",
    "    # print(wsi_name)\n",
    "    # print(arr.shape)\n",
    "    # print(np.unique(arr))\n",
    "\n",
    "    # plt.figure(figsize=(10,10))\n",
    "    # plt.title(\"Thumbnail\")\n",
    "    # plt.imshow(arr * 255)\n",
    "    # plt.show()\n",
    "    # plt.imshow(thumbnail)\n",
    "    # thumbnail = np.asarray(thumbnail, dtype=np.uint8)\n",
    "    thumbnail = torch.as_tensor(arr)\n",
    "    thumbnails[wsi_name] = thumbnail\n",
    "    # print(thumbnails[wsi_name].size())\n",
    "    # break"
   ]
  },
  {
   "cell_type": "code",
   "execution_count": 4,
   "metadata": {},
   "outputs": [],
   "source": [
    "# for wsi_name in wsi_names[:20]:\n",
    "#     print(wsi_name)\n",
    "#     print(thumbnails[wsi_name].shape)\n",
    "#     print(np.unique(thumbnails[wsi_name]))\n",
    "\n",
    "#     plt.figure(figsize=(10,10))\n",
    "#     plt.title(\"Thumbnail\")\n",
    "#     plt.imshow(thumbnails[wsi_name] * 255)\n",
    "#     plt.show()"
   ]
  },
  {
   "cell_type": "code",
   "execution_count": 5,
   "metadata": {},
   "outputs": [],
   "source": [
    "# # Convert tensors to arrays if needed\n",
    "# for wsi_name in thumbnails:\n",
    "#     thumbnails[wsi_name] = thumbnails[wsi_name].numpy()"
   ]
  },
  {
   "cell_type": "code",
   "execution_count": 6,
   "metadata": {},
   "outputs": [],
   "source": [
    "# Open json file and write dictionary to it\n",
    "thumbnail_filename = \"./data/thumbnails_\" + str(PATCH_WIDTH) + \"x\" + str(PATCH_HEIGHT) + \".p\"\n",
    "with open(thumbnail_filename, 'wb') as fp:\n",
    "    pickle.dump(thumbnails, fp)"
   ]
  }
 ],
 "metadata": {
  "kernelspec": {
   "display_name": "Python 3.8.10 ('env': venv)",
   "language": "python",
   "name": "python3"
  },
  "language_info": {
   "codemirror_mode": {
    "name": "ipython",
    "version": 3
   },
   "file_extension": ".py",
   "mimetype": "text/x-python",
   "name": "python",
   "nbconvert_exporter": "python",
   "pygments_lexer": "ipython3",
   "version": "3.8.10"
  },
  "orig_nbformat": 4,
  "vscode": {
   "interpreter": {
    "hash": "de4631684bd2c882b6b797b2a828f7be340f598e9083880a321a8ea7c6fac874"
   }
  }
 },
 "nbformat": 4,
 "nbformat_minor": 2
}
