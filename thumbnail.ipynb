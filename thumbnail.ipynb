{
 "cells": [
  {
   "cell_type": "markdown",
   "metadata": {},
   "source": [
    "# Mask Thumbnail Dictionary Creator"
   ]
  },
  {
   "cell_type": "markdown",
   "metadata": {},
   "source": [
    "## Imports"
   ]
  },
  {
   "cell_type": "code",
   "execution_count": null,
   "metadata": {},
   "outputs": [],
   "source": [
    "import json\n",
    "import numpy as np\n",
    "import openslide"
   ]
  },
  {
   "cell_type": "markdown",
   "metadata": {},
   "source": [
    "## Create Thumbnail Dictionary"
   ]
  },
  {
   "cell_type": "code",
   "execution_count": null,
   "metadata": {},
   "outputs": [],
   "source": [
    "# Location of the training images\n",
    "DATA_PATH = '../../ganz/data/panda_dataset'\n",
    "\n",
    "# mask directory\n",
    "mask_dir = f'{DATA_PATH}/train_label_masks'\n",
    "\n",
    "# Location of training labels\n",
    "train = pd.read_csv(f'{DATA_PATH}/train.csv').set_index('image_id')\n",
    "\n",
    "# List of wsi names\n",
    "wsi_names = list(train.index)"
   ]
  },
  {
   "cell_type": "code",
   "execution_count": null,
   "metadata": {},
   "outputs": [],
   "source": [
    "# Create thumbnails dictionary\n",
    "thumbnails = {}\n",
    "\n",
    "# Get thumbnail of each wsi mask and add it as an array to the dictionary\n",
    "for wsi_name in wsi_names:\n",
    "  mask = openslide.OpenSlide(os.path.join(mask_dir, f'{wsi_name}_mask.tiff'))\n",
    "  width, height = mask.dimensions\n",
    "  thumbnail = mask.get_thumbnail(width/PATCH_WIDTH, height/PATCH_HEIGHT)\n",
    "  imshow(thumbnail)\n",
    "  thumbnails[wsi_name] = np.asarray(thumbnail)\n",
    "  print(thumbails[wsi_name])"
   ]
  },
  {
   "cell_type": "code",
   "execution_count": null,
   "metadata": {},
   "outputs": [],
   "source": [
    "# Open json file and write dictionary to it\n",
    "with open('./data/thumbnails.json', 'w') as fp:\n",
    "    json.dump(thumbnails, fp)"
   ]
  }
 ],
 "metadata": {
  "language_info": {
   "name": "python"
  },
  "orig_nbformat": 4
 },
 "nbformat": 4,
 "nbformat_minor": 2
}
