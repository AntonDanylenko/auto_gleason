{
 "cells": [
  {
   "cell_type": "markdown",
   "metadata": {},
   "source": [
    "# Automated Gleason Grading"
   ]
  },
  {
   "cell_type": "code",
   "execution_count": 1,
   "metadata": {},
   "outputs": [],
   "source": [
    "from lib.load import *\n",
    "from lib.merged_training import *\n",
    "from lib.testing import *\n",
    "from lib.segmented_patches import *"
   ]
  },
  {
   "cell_type": "code",
   "execution_count": 2,
   "metadata": {},
   "outputs": [],
   "source": [
    "# train_img_names, val_img_names, test_img_names, thumbnails_dict = load()"
   ]
  },
  {
   "cell_type": "code",
   "execution_count": 3,
   "metadata": {},
   "outputs": [],
   "source": [
    "# unet = mergedTraining(train_img_names, val_img_names, thumbnails_dict)"
   ]
  },
  {
   "cell_type": "code",
   "execution_count": 4,
   "metadata": {},
   "outputs": [],
   "source": [
    "# Serialize the model to disk\n",
    "# torch.save(unet, MODEL_PATH)"
   ]
  },
  {
   "cell_type": "code",
   "execution_count": 5,
   "metadata": {},
   "outputs": [],
   "source": [
    "# testingLoss = testing(unet, test_img_names)"
   ]
  },
  {
   "cell_type": "code",
   "execution_count": 6,
   "metadata": {},
   "outputs": [
    {
     "name": "stdout",
     "output_type": "stream",
     "text": [
      "[INFO] load up model...\n"
     ]
    },
    {
     "name": "stderr",
     "output_type": "stream",
     "text": [
      "  0%|          | 0/3 [00:00<?, ?it/s]"
     ]
    },
    {
     "name": "stdout",
     "output_type": "stream",
     "text": [
      "0005f7aaab2800f6170c399693a96917\n",
      "[3072, 3072]\n"
     ]
    },
    {
     "name": "stderr",
     "output_type": "stream",
     "text": [
      "  0%|          | 0/3 [00:00<?, ?it/s]\n"
     ]
    },
    {
     "ename": "ValueError",
     "evalue": "not enough values to unpack (expected 4, got 3)",
     "output_type": "error",
     "traceback": [
      "\u001b[0;31m---------------------------------------------------------------------------\u001b[0m",
      "\u001b[0;31mValueError\u001b[0m                                Traceback (most recent call last)",
      "\u001b[1;32m/home/danylenko/auto_gleason/main.ipynb Cell 7\u001b[0m in \u001b[0;36m<cell line: 1>\u001b[0;34m()\u001b[0m\n\u001b[0;32m----> <a href='vscode-notebook-cell://ssh-remote%2Bgpu/home/danylenko/auto_gleason/main.ipynb#ch0000006vscode-remote?line=0'>1</a>\u001b[0m create_segmented_patches()\n",
      "File \u001b[0;32m~/auto_gleason/lib/segmented_patches.py:71\u001b[0m, in \u001b[0;36mcreate_segmented_patches\u001b[0;34m()\u001b[0m\n\u001b[1;32m     69\u001b[0m patch \u001b[39m=\u001b[39m transformations(patch)\u001b[39m.\u001b[39mto(DEVICE)\n\u001b[1;32m     70\u001b[0m \u001b[39m# Get segemented mask for patch\u001b[39;00m\n\u001b[0;32m---> 71\u001b[0m pred \u001b[39m=\u001b[39m unet(patch) \u001b[39m#.squeeze()\u001b[39;00m\n\u001b[1;32m     72\u001b[0m predMask \u001b[39m=\u001b[39m torch\u001b[39m.\u001b[39margmax(pred, dim\u001b[39m=\u001b[39m\u001b[39m0\u001b[39m)\n\u001b[1;32m     73\u001b[0m predMask_np \u001b[39m=\u001b[39m predMask\u001b[39m.\u001b[39mcpu()\u001b[39m.\u001b[39mdetach()\u001b[39m.\u001b[39mnumpy()\n",
      "File \u001b[0;32m~/auto_gleason/env/lib/python3.8/site-packages/torch/nn/modules/module.py:1110\u001b[0m, in \u001b[0;36mModule._call_impl\u001b[0;34m(self, *input, **kwargs)\u001b[0m\n\u001b[1;32m   1106\u001b[0m \u001b[39m# If we don't have any hooks, we want to skip the rest of the logic in\u001b[39;00m\n\u001b[1;32m   1107\u001b[0m \u001b[39m# this function, and just call forward.\u001b[39;00m\n\u001b[1;32m   1108\u001b[0m \u001b[39mif\u001b[39;00m \u001b[39mnot\u001b[39;00m (\u001b[39mself\u001b[39m\u001b[39m.\u001b[39m_backward_hooks \u001b[39mor\u001b[39;00m \u001b[39mself\u001b[39m\u001b[39m.\u001b[39m_forward_hooks \u001b[39mor\u001b[39;00m \u001b[39mself\u001b[39m\u001b[39m.\u001b[39m_forward_pre_hooks \u001b[39mor\u001b[39;00m _global_backward_hooks\n\u001b[1;32m   1109\u001b[0m         \u001b[39mor\u001b[39;00m _global_forward_hooks \u001b[39mor\u001b[39;00m _global_forward_pre_hooks):\n\u001b[0;32m-> 1110\u001b[0m     \u001b[39mreturn\u001b[39;00m forward_call(\u001b[39m*\u001b[39;49m\u001b[39minput\u001b[39;49m, \u001b[39m*\u001b[39;49m\u001b[39m*\u001b[39;49mkwargs)\n\u001b[1;32m   1111\u001b[0m \u001b[39m# Do not call functions when jit is used\u001b[39;00m\n\u001b[1;32m   1112\u001b[0m full_backward_hooks, non_full_backward_hooks \u001b[39m=\u001b[39m [], []\n",
      "File \u001b[0;32m~/auto_gleason/lib/unet.py:106\u001b[0m, in \u001b[0;36mUNet.forward\u001b[0;34m(self, x)\u001b[0m\n\u001b[1;32m    103\u001b[0m encFeatures \u001b[39m=\u001b[39m \u001b[39mself\u001b[39m\u001b[39m.\u001b[39mencoder(x)\n\u001b[1;32m    104\u001b[0m \u001b[39m# pass the encoder features through decoder making sure that\u001b[39;00m\n\u001b[1;32m    105\u001b[0m \u001b[39m# their dimensions are suited for concatenation\u001b[39;00m\n\u001b[0;32m--> 106\u001b[0m decFeatures \u001b[39m=\u001b[39m \u001b[39mself\u001b[39;49m\u001b[39m.\u001b[39;49mdecoder(encFeatures[::\u001b[39m-\u001b[39;49m\u001b[39m1\u001b[39;49m][\u001b[39m0\u001b[39;49m],\n\u001b[1;32m    107\u001b[0m \tencFeatures[::\u001b[39m-\u001b[39;49m\u001b[39m1\u001b[39;49m][\u001b[39m1\u001b[39;49m:])\n\u001b[1;32m    108\u001b[0m \u001b[39m# pass the decoder features through the regression head to\u001b[39;00m\n\u001b[1;32m    109\u001b[0m \u001b[39m# obtain the segmentation mask\u001b[39;00m\n\u001b[1;32m    110\u001b[0m \u001b[39mmap\u001b[39m \u001b[39m=\u001b[39m \u001b[39mself\u001b[39m\u001b[39m.\u001b[39mhead(decFeatures)\n",
      "File \u001b[0;32m~/auto_gleason/env/lib/python3.8/site-packages/torch/nn/modules/module.py:1110\u001b[0m, in \u001b[0;36mModule._call_impl\u001b[0;34m(self, *input, **kwargs)\u001b[0m\n\u001b[1;32m   1106\u001b[0m \u001b[39m# If we don't have any hooks, we want to skip the rest of the logic in\u001b[39;00m\n\u001b[1;32m   1107\u001b[0m \u001b[39m# this function, and just call forward.\u001b[39;00m\n\u001b[1;32m   1108\u001b[0m \u001b[39mif\u001b[39;00m \u001b[39mnot\u001b[39;00m (\u001b[39mself\u001b[39m\u001b[39m.\u001b[39m_backward_hooks \u001b[39mor\u001b[39;00m \u001b[39mself\u001b[39m\u001b[39m.\u001b[39m_forward_hooks \u001b[39mor\u001b[39;00m \u001b[39mself\u001b[39m\u001b[39m.\u001b[39m_forward_pre_hooks \u001b[39mor\u001b[39;00m _global_backward_hooks\n\u001b[1;32m   1109\u001b[0m         \u001b[39mor\u001b[39;00m _global_forward_hooks \u001b[39mor\u001b[39;00m _global_forward_pre_hooks):\n\u001b[0;32m-> 1110\u001b[0m     \u001b[39mreturn\u001b[39;00m forward_call(\u001b[39m*\u001b[39;49m\u001b[39minput\u001b[39;49m, \u001b[39m*\u001b[39;49m\u001b[39m*\u001b[39;49mkwargs)\n\u001b[1;32m   1111\u001b[0m \u001b[39m# Do not call functions when jit is used\u001b[39;00m\n\u001b[1;32m   1112\u001b[0m full_backward_hooks, non_full_backward_hooks \u001b[39m=\u001b[39m [], []\n",
      "File \u001b[0;32m~/auto_gleason/lib/unet.py:70\u001b[0m, in \u001b[0;36mDecoder.forward\u001b[0;34m(self, x, encFeatures)\u001b[0m\n\u001b[1;32m     65\u001b[0m x \u001b[39m=\u001b[39m \u001b[39mself\u001b[39m\u001b[39m.\u001b[39mupconvs[i](x)\n\u001b[1;32m     66\u001b[0m \u001b[39m# crop the current features from the encoder blocks,\u001b[39;00m\n\u001b[1;32m     67\u001b[0m \u001b[39m# concatenate them with the current upsampled features,\u001b[39;00m\n\u001b[1;32m     68\u001b[0m \u001b[39m# and pass the concatenated output through the current\u001b[39;00m\n\u001b[1;32m     69\u001b[0m \u001b[39m# decoder block\u001b[39;00m\n\u001b[0;32m---> 70\u001b[0m encFeat \u001b[39m=\u001b[39m \u001b[39mself\u001b[39;49m\u001b[39m.\u001b[39;49mcrop(encFeatures[i], x)\n\u001b[1;32m     71\u001b[0m x \u001b[39m=\u001b[39m torch\u001b[39m.\u001b[39mcat([x, encFeat], dim\u001b[39m=\u001b[39m\u001b[39m1\u001b[39m)\n\u001b[1;32m     72\u001b[0m x \u001b[39m=\u001b[39m \u001b[39mself\u001b[39m\u001b[39m.\u001b[39mdec_blocks[i](x)\n",
      "File \u001b[0;32m~/auto_gleason/lib/unet.py:80\u001b[0m, in \u001b[0;36mDecoder.crop\u001b[0;34m(self, encFeatures, x)\u001b[0m\n\u001b[1;32m     76\u001b[0m \u001b[39mdef\u001b[39;00m \u001b[39mcrop\u001b[39m(\u001b[39mself\u001b[39m, encFeatures, x):\n\u001b[1;32m     77\u001b[0m \t\u001b[39m# grab the dimensions of the inputs, and crop the encoder\u001b[39;00m\n\u001b[1;32m     78\u001b[0m \t\u001b[39m# features to match the dimensions\u001b[39;00m\n\u001b[1;32m     79\u001b[0m \t\u001b[39m# print(x.shape)\u001b[39;00m\n\u001b[0;32m---> 80\u001b[0m \t(_, _, H, W) \u001b[39m=\u001b[39m x\u001b[39m.\u001b[39mshape\n\u001b[1;32m     81\u001b[0m \t\u001b[39m# H = x.shape[-2]\u001b[39;00m\n\u001b[1;32m     82\u001b[0m \t\u001b[39m# W = x.shape[-1]\u001b[39;00m\n\u001b[1;32m     83\u001b[0m \tencFeatures \u001b[39m=\u001b[39m transforms\u001b[39m.\u001b[39mCenterCrop([H, W])(encFeatures)\n",
      "\u001b[0;31mValueError\u001b[0m: not enough values to unpack (expected 4, got 3)"
     ]
    }
   ],
   "source": [
    "create_segmented_patches()"
   ]
  }
 ],
 "metadata": {
  "kernelspec": {
   "display_name": "Python 3.8.10 ('env': venv)",
   "language": "python",
   "name": "python3"
  },
  "language_info": {
   "codemirror_mode": {
    "name": "ipython",
    "version": 3
   },
   "file_extension": ".py",
   "mimetype": "text/x-python",
   "name": "python",
   "nbconvert_exporter": "python",
   "pygments_lexer": "ipython3",
   "version": "3.8.10"
  },
  "orig_nbformat": 4,
  "vscode": {
   "interpreter": {
    "hash": "de4631684bd2c882b6b797b2a828f7be340f598e9083880a321a8ea7c6fac874"
   }
  }
 },
 "nbformat": 4,
 "nbformat_minor": 2
}
