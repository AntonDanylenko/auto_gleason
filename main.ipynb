{
 "cells": [
  {
   "cell_type": "markdown",
   "metadata": {},
   "source": [
    "# Automated Gleason Grading"
   ]
  },
  {
   "cell_type": "markdown",
   "metadata": {},
   "source": [
    "## Imports"
   ]
  },
  {
   "cell_type": "code",
   "execution_count": 3,
   "metadata": {},
   "outputs": [],
   "source": [
    "import os\n",
    "\n",
    "import openslide\n",
    "import random\n",
    "import seaborn as sns\n",
    "import cv2\n",
    "\n",
    "# General packages\n",
    "import pandas as pd\n",
    "import numpy as np\n",
    "import matplotlib\n",
    "import matplotlib.pyplot as plt\n",
    "import PIL\n",
    "from IPython.display import Image, display\n",
    "\n",
    "# Plotly for the interactive viewer (see last section)\n",
    "import plotly.graph_objs as go"
   ]
  },
  {
   "cell_type": "markdown",
   "metadata": {},
   "source": [
    "## Load Dataset"
   ]
  },
  {
   "cell_type": "code",
   "execution_count": 4,
   "metadata": {},
   "outputs": [],
   "source": [
    "# Location of the training images\n",
    "\n",
    "BASE_PATH = '../../ganz/data/panda_dataset'\n",
    "\n",
    "# image and mask directories\n",
    "data_dir = f'{BASE_PATH}/train_images'\n",
    "mask_dir = f'{BASE_PATH}/train_label_masks'\n",
    "\n",
    "\n",
    "# Location of training labels\n",
    "train = pd.read_csv(f'{BASE_PATH}/train.csv').set_index('image_id')\n",
    "test = pd.read_csv(f'{BASE_PATH}/test.csv')\n",
    "submission = pd.read_csv(f'{BASE_PATH}/sample_submission.csv')"
   ]
  },
  {
   "cell_type": "markdown",
   "metadata": {},
   "source": [
    "## Display Images"
   ]
  },
  {
   "cell_type": "code",
   "execution_count": 5,
   "metadata": {},
   "outputs": [],
   "source": [
    "def display_images(slides): \n",
    "    f, ax = plt.subplots(5,3, figsize=(18,22))\n",
    "    for i, slide in enumerate(slides):\n",
    "        image = openslide.OpenSlide(os.path.join(data_dir, f'{slide}.tiff'))\n",
    "        spacing = 1 / (float(image.properties['tiff.XResolution']) / 10000)\n",
    "        patch = image.read_region((1780,1950), 0, (256, 256))\n",
    "        ax[i//3, i%3].imshow(patch) \n",
    "        image.close()       \n",
    "        ax[i//3, i%3].axis('off')\n",
    "        \n",
    "        image_id = slide\n",
    "        data_provider = train.loc[slide, 'data_provider']\n",
    "        isup_grade = train.loc[slide, 'isup_grade']\n",
    "        gleason_score = train.loc[slide, 'gleason_score']\n",
    "        ax[i//3, i%3].set_title(f\"ID: {image_id}\\nSource: {data_provider} ISUP: {isup_grade} Gleason: {gleason_score}\")\n",
    "\n",
    "    plt.show()"
   ]
  },
  {
   "cell_type": "code",
   "execution_count": null,
   "metadata": {},
   "outputs": [],
   "source": [
    "images = [\n",
    "    '07a7ef0ba3bb0d6564a73f4f3e1c2293',\n",
    "    '037504061b9fba71ef6e24c48c6df44d',\n",
    "    '035b1edd3d1aeeffc77ce5d248a01a53',\n",
    "    '059cbf902c5e42972587c8d17d49efed',\n",
    "    '06a0cbd8fd6320ef1aa6f19342af2e68',\n",
    "    '06eda4a6faca84e84a781fee2d5f47e1',\n",
    "    '0a4b7a7499ed55c71033cefb0765e93d',\n",
    "    '0838c82917cd9af681df249264d2769c',\n",
    "    '046b35ae95374bfb48cdca8d7c83233f',\n",
    "    '074c3e01525681a275a42282cd21cbde',\n",
    "    '05abe25c883d508ecc15b6e857e59f32',\n",
    "    '05f4e9415af9fdabc19109c980daf5ad',\n",
    "    '060121a06476ef401d8a21d6567dee6d',\n",
    "    '068b0e3be4c35ea983f77accf8351cc8',\n",
    "    '08f055372c7b8a7e1df97c6586542ac8'\n",
    "]\n",
    "\n",
    "display_images(images)"
   ]
  },
  {
   "cell_type": "markdown",
   "metadata": {},
   "source": [
    "## Visualize Masks"
   ]
  },
  {
   "cell_type": "code",
   "execution_count": null,
   "metadata": {},
   "outputs": [],
   "source": [
    "def display_masks(slides): \n",
    "    f, ax = plt.subplots(5,3, figsize=(18,22))\n",
    "    for i, slide in enumerate(slides):\n",
    "        \n",
    "        mask = openslide.OpenSlide(os.path.join(mask_dir, f'{slide}_mask.tiff'))\n",
    "        mask_data = mask.read_region((0,0), mask.level_count - 1, mask.level_dimensions[-1])\n",
    "        cmap = matplotlib.colors.ListedColormap(['black', 'gray', 'green', 'yellow', 'orange', 'red'])\n",
    "\n",
    "        ax[i//3, i%3].imshow(np.asarray(mask_data)[:,:,0], cmap=cmap, interpolation='nearest', vmin=0, vmax=5) \n",
    "        mask.close()       \n",
    "        ax[i//3, i%3].axis('off')\n",
    "        \n",
    "        image_id = slide\n",
    "        data_provider = train.loc[slide, 'data_provider']\n",
    "        isup_grade = train.loc[slide, 'isup_grade']\n",
    "        gleason_score = train.loc[slide, 'gleason_score']\n",
    "        ax[i//3, i%3].set_title(f\"ID: {image_id}\\nSource: {data_provider} ISUP: {isup_grade} Gleason: {gleason_score}\")\n",
    "        f.tight_layout()\n",
    "        \n",
    "    plt.show()"
   ]
  },
  {
   "cell_type": "code",
   "execution_count": null,
   "metadata": {},
   "outputs": [],
   "source": [
    "display_masks(images)"
   ]
  }
 ],
 "metadata": {
  "kernelspec": {
   "display_name": "Python 3.8.10 ('env': venv)",
   "language": "python",
   "name": "python3"
  },
  "language_info": {
   "codemirror_mode": {
    "name": "ipython",
    "version": 3
   },
   "file_extension": ".py",
   "mimetype": "text/x-python",
   "name": "python",
   "nbconvert_exporter": "python",
   "pygments_lexer": "ipython3",
   "version": "3.8.10"
  },
  "orig_nbformat": 4,
  "vscode": {
   "interpreter": {
    "hash": "de4631684bd2c882b6b797b2a828f7be340f598e9083880a321a8ea7c6fac874"
   }
  }
 },
 "nbformat": 4,
 "nbformat_minor": 2
}
