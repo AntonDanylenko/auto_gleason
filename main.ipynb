{
 "cells": [
  {
   "cell_type": "markdown",
   "metadata": {},
   "source": [
    "# Automated Gleason Grading"
   ]
  },
  {
   "cell_type": "code",
   "execution_count": 1,
   "metadata": {},
   "outputs": [],
   "source": [
    "from lib.load import *\n",
    "from lib.merged_training import *\n",
    "from lib.testing import *"
   ]
  },
  {
   "cell_type": "code",
   "execution_count": 2,
   "metadata": {},
   "outputs": [],
   "source": [
    "train_img_names, val_img_names, test_img_names, thumbnails_dict = load()"
   ]
  },
  {
   "cell_type": "code",
   "execution_count": 3,
   "metadata": {},
   "outputs": [
    {
     "name": "stderr",
     "output_type": "stream",
     "text": [
      "Make Slide Dict: 100%|██████████| 8420/8420 [00:09<00:00, 849.88it/s]\n",
      "Make Slide Dict: 100%|██████████| 1486/1486 [00:01<00:00, 894.88it/s]\n"
     ]
    },
    {
     "name": "stdout",
     "output_type": "stream",
     "text": [
      "[INFO] found 256 samples in the merged training set...\n",
      "[INFO] found 256 samples in the merged validation set...\n",
      "[INFO] training the network...\n"
     ]
    },
    {
     "name": "stderr",
     "output_type": "stream",
     "text": [
      "  2%|▏         | 1/50 [01:11<58:24, 71.53s/it]"
     ]
    },
    {
     "name": "stdout",
     "output_type": "stream",
     "text": [
      "[INFO] EPOCH: 1/50\n",
      "Train loss: 0.591677, Val loss: 0.4741\n",
      "Val metric for class 0: 0.000000\n",
      "Val metric for class 1: 0.000000\n",
      "Val metric for class 2: 0.669804\n"
     ]
    },
    {
     "name": "stderr",
     "output_type": "stream",
     "text": [
      "  4%|▍         | 2/50 [02:22<56:49, 71.04s/it]"
     ]
    },
    {
     "name": "stdout",
     "output_type": "stream",
     "text": [
      "[INFO] EPOCH: 2/50\n",
      "Train loss: 0.457114, Val loss: 0.3981\n",
      "Val metric for class 0: 0.000000\n",
      "Val metric for class 1: 0.316999\n",
      "Val metric for class 2: 0.750692\n"
     ]
    },
    {
     "name": "stderr",
     "output_type": "stream",
     "text": [
      "  6%|▌         | 3/50 [03:33<55:48, 71.24s/it]"
     ]
    },
    {
     "name": "stdout",
     "output_type": "stream",
     "text": [
      "[INFO] EPOCH: 3/50\n",
      "Train loss: 0.419575, Val loss: 0.3901\n",
      "Val metric for class 0: 0.005827\n",
      "Val metric for class 1: 0.252102\n",
      "Val metric for class 2: 0.763700\n"
     ]
    },
    {
     "name": "stderr",
     "output_type": "stream",
     "text": [
      "  8%|▊         | 4/50 [04:46<55:11, 71.99s/it]"
     ]
    },
    {
     "name": "stdout",
     "output_type": "stream",
     "text": [
      "[INFO] EPOCH: 4/50\n",
      "Train loss: 0.387116, Val loss: 0.3673\n",
      "Val metric for class 0: 0.688950\n",
      "Val metric for class 1: 0.693300\n",
      "Val metric for class 2: 0.581248\n"
     ]
    },
    {
     "name": "stderr",
     "output_type": "stream",
     "text": [
      " 10%|█         | 5/50 [06:00<54:26, 72.59s/it]"
     ]
    },
    {
     "name": "stdout",
     "output_type": "stream",
     "text": [
      "[INFO] EPOCH: 5/50\n",
      "Train loss: 0.370235, Val loss: 0.3412\n",
      "Val metric for class 0: 0.691505\n",
      "Val metric for class 1: 0.713230\n",
      "Val metric for class 2: 0.640636\n"
     ]
    },
    {
     "name": "stderr",
     "output_type": "stream",
     "text": [
      " 12%|█▏        | 6/50 [07:13<53:23, 72.82s/it]"
     ]
    },
    {
     "name": "stdout",
     "output_type": "stream",
     "text": [
      "[INFO] EPOCH: 6/50\n",
      "Train loss: 0.346532, Val loss: 0.3158\n",
      "Val metric for class 0: 0.682144\n",
      "Val metric for class 1: 0.672474\n",
      "Val metric for class 2: 0.672575\n"
     ]
    },
    {
     "name": "stderr",
     "output_type": "stream",
     "text": [
      " 14%|█▍        | 7/50 [08:26<52:12, 72.84s/it]"
     ]
    },
    {
     "name": "stdout",
     "output_type": "stream",
     "text": [
      "[INFO] EPOCH: 7/50\n",
      "Train loss: 0.312718, Val loss: 0.3120\n",
      "Val metric for class 0: 0.715009\n",
      "Val metric for class 1: 0.716227\n",
      "Val metric for class 2: 0.663380\n"
     ]
    },
    {
     "name": "stderr",
     "output_type": "stream",
     "text": [
      " 16%|█▌        | 8/50 [09:38<50:52, 72.68s/it]"
     ]
    },
    {
     "name": "stdout",
     "output_type": "stream",
     "text": [
      "[INFO] EPOCH: 8/50\n",
      "Train loss: 0.298429, Val loss: 0.2864\n",
      "Val metric for class 0: 0.721119\n",
      "Val metric for class 1: 0.703239\n",
      "Val metric for class 2: 0.744119\n"
     ]
    },
    {
     "name": "stderr",
     "output_type": "stream",
     "text": [
      " 18%|█▊        | 9/50 [10:51<49:39, 72.67s/it]"
     ]
    },
    {
     "name": "stdout",
     "output_type": "stream",
     "text": [
      "[INFO] EPOCH: 9/50\n",
      "Train loss: 0.291992, Val loss: 0.3016\n",
      "Val metric for class 0: 0.684903\n",
      "Val metric for class 1: 0.585865\n",
      "Val metric for class 2: 0.789395\n"
     ]
    },
    {
     "name": "stderr",
     "output_type": "stream",
     "text": [
      " 20%|██        | 10/50 [12:06<48:58, 73.46s/it]"
     ]
    },
    {
     "name": "stdout",
     "output_type": "stream",
     "text": [
      "[INFO] EPOCH: 10/50\n",
      "Train loss: 0.300977, Val loss: 0.2938\n",
      "Val metric for class 0: 0.704887\n",
      "Val metric for class 1: 0.728411\n",
      "Val metric for class 2: 0.659154\n"
     ]
    },
    {
     "name": "stderr",
     "output_type": "stream",
     "text": [
      " 22%|██▏       | 11/50 [13:21<48:01, 73.88s/it]"
     ]
    },
    {
     "name": "stdout",
     "output_type": "stream",
     "text": [
      "[INFO] EPOCH: 11/50\n",
      "Train loss: 0.284689, Val loss: 0.2648\n",
      "Val metric for class 0: 0.714565\n",
      "Val metric for class 1: 0.692908\n",
      "Val metric for class 2: 0.770001\n"
     ]
    },
    {
     "name": "stderr",
     "output_type": "stream",
     "text": [
      " 24%|██▍       | 12/50 [14:37<47:09, 74.47s/it]"
     ]
    },
    {
     "name": "stdout",
     "output_type": "stream",
     "text": [
      "[INFO] EPOCH: 12/50\n",
      "Train loss: 0.273222, Val loss: 0.2528\n",
      "Val metric for class 0: 0.705309\n",
      "Val metric for class 1: 0.696829\n",
      "Val metric for class 2: 0.753757\n"
     ]
    },
    {
     "name": "stderr",
     "output_type": "stream",
     "text": [
      " 26%|██▌       | 13/50 [15:50<45:33, 73.89s/it]"
     ]
    },
    {
     "name": "stdout",
     "output_type": "stream",
     "text": [
      "[INFO] EPOCH: 13/50\n",
      "Train loss: 0.270716, Val loss: 0.2436\n",
      "Val metric for class 0: 0.711435\n",
      "Val metric for class 1: 0.748192\n",
      "Val metric for class 2: 0.679074\n"
     ]
    },
    {
     "name": "stderr",
     "output_type": "stream",
     "text": [
      " 28%|██▊       | 14/50 [16:59<43:30, 72.50s/it]"
     ]
    },
    {
     "name": "stdout",
     "output_type": "stream",
     "text": [
      "[INFO] EPOCH: 14/50\n",
      "Train loss: 0.289668, Val loss: 0.2647\n",
      "Val metric for class 0: 0.701333\n",
      "Val metric for class 1: 0.706458\n",
      "Val metric for class 2: 0.726925\n"
     ]
    },
    {
     "name": "stderr",
     "output_type": "stream",
     "text": [
      " 30%|███       | 15/50 [18:09<41:49, 71.70s/it]"
     ]
    },
    {
     "name": "stdout",
     "output_type": "stream",
     "text": [
      "[INFO] EPOCH: 15/50\n",
      "Train loss: 0.258597, Val loss: 0.2539\n",
      "Val metric for class 0: 0.709290\n",
      "Val metric for class 1: 0.633802\n",
      "Val metric for class 2: 0.795278\n"
     ]
    },
    {
     "name": "stderr",
     "output_type": "stream",
     "text": [
      " 32%|███▏      | 16/50 [19:20<40:37, 71.70s/it]"
     ]
    },
    {
     "name": "stdout",
     "output_type": "stream",
     "text": [
      "[INFO] EPOCH: 16/50\n",
      "Train loss: 0.285774, Val loss: 0.2518\n",
      "Val metric for class 0: 0.724935\n",
      "Val metric for class 1: 0.743946\n",
      "Val metric for class 2: 0.735792\n"
     ]
    },
    {
     "name": "stderr",
     "output_type": "stream",
     "text": [
      " 34%|███▍      | 17/50 [20:32<39:20, 71.53s/it]"
     ]
    },
    {
     "name": "stdout",
     "output_type": "stream",
     "text": [
      "[INFO] EPOCH: 17/50\n",
      "Train loss: 0.234106, Val loss: 0.2891\n",
      "Val metric for class 0: 0.026220\n",
      "Val metric for class 1: 0.752637\n",
      "Val metric for class 2: 0.674865\n"
     ]
    },
    {
     "name": "stderr",
     "output_type": "stream",
     "text": [
      " 36%|███▌      | 18/50 [21:46<38:40, 72.52s/it]"
     ]
    },
    {
     "name": "stdout",
     "output_type": "stream",
     "text": [
      "[INFO] EPOCH: 18/50\n",
      "Train loss: 0.312203, Val loss: 0.2674\n",
      "Val metric for class 0: 0.699728\n",
      "Val metric for class 1: 0.699311\n",
      "Val metric for class 2: 0.747854\n"
     ]
    },
    {
     "name": "stderr",
     "output_type": "stream",
     "text": [
      " 38%|███▊      | 19/50 [23:00<37:40, 72.91s/it]"
     ]
    },
    {
     "name": "stdout",
     "output_type": "stream",
     "text": [
      "[INFO] EPOCH: 19/50\n",
      "Train loss: 0.263653, Val loss: 0.2648\n",
      "Val metric for class 0: 0.588117\n",
      "Val metric for class 1: 0.760587\n",
      "Val metric for class 2: 0.721626\n"
     ]
    },
    {
     "name": "stderr",
     "output_type": "stream",
     "text": [
      " 40%|████      | 20/50 [24:17<37:02, 74.07s/it]"
     ]
    },
    {
     "name": "stdout",
     "output_type": "stream",
     "text": [
      "[INFO] EPOCH: 20/50\n",
      "Train loss: 0.254699, Val loss: 0.2518\n",
      "Val metric for class 0: 0.728781\n",
      "Val metric for class 1: 0.646551\n",
      "Val metric for class 2: 0.797207\n"
     ]
    },
    {
     "name": "stderr",
     "output_type": "stream",
     "text": [
      " 42%|████▏     | 21/50 [25:31<35:44, 73.94s/it]"
     ]
    },
    {
     "name": "stdout",
     "output_type": "stream",
     "text": [
      "[INFO] EPOCH: 21/50\n",
      "Train loss: 0.238713, Val loss: 0.2232\n",
      "Val metric for class 0: 0.727065\n",
      "Val metric for class 1: 0.758627\n",
      "Val metric for class 2: 0.725004\n"
     ]
    },
    {
     "name": "stderr",
     "output_type": "stream",
     "text": [
      " 44%|████▍     | 22/50 [26:43<34:19, 73.54s/it]"
     ]
    },
    {
     "name": "stdout",
     "output_type": "stream",
     "text": [
      "[INFO] EPOCH: 22/50\n",
      "Train loss: 0.241075, Val loss: 0.2424\n",
      "Val metric for class 0: 0.715737\n",
      "Val metric for class 1: 0.776811\n",
      "Val metric for class 2: 0.670370\n"
     ]
    },
    {
     "name": "stderr",
     "output_type": "stream",
     "text": [
      " 46%|████▌     | 23/50 [27:58<33:15, 73.92s/it]"
     ]
    },
    {
     "name": "stdout",
     "output_type": "stream",
     "text": [
      "[INFO] EPOCH: 23/50\n",
      "Train loss: 0.249862, Val loss: 0.2294\n",
      "Val metric for class 0: 0.724997\n",
      "Val metric for class 1: 0.764789\n",
      "Val metric for class 2: 0.677648\n"
     ]
    },
    {
     "name": "stderr",
     "output_type": "stream",
     "text": [
      " 48%|████▊     | 24/50 [29:15<32:29, 74.99s/it]"
     ]
    },
    {
     "name": "stdout",
     "output_type": "stream",
     "text": [
      "[INFO] EPOCH: 24/50\n",
      "Train loss: 0.239508, Val loss: 0.2354\n",
      "Val metric for class 0: 0.725999\n",
      "Val metric for class 1: 0.720005\n",
      "Val metric for class 2: 0.777458\n"
     ]
    },
    {
     "name": "stderr",
     "output_type": "stream",
     "text": [
      " 50%|█████     | 25/50 [30:30<31:13, 74.93s/it]"
     ]
    },
    {
     "name": "stdout",
     "output_type": "stream",
     "text": [
      "[INFO] EPOCH: 25/50\n",
      "Train loss: 0.242069, Val loss: 0.2539\n",
      "Val metric for class 0: 0.552601\n",
      "Val metric for class 1: 0.775757\n",
      "Val metric for class 2: 0.676113\n"
     ]
    },
    {
     "name": "stderr",
     "output_type": "stream",
     "text": [
      " 52%|█████▏    | 26/50 [31:43<29:45, 74.39s/it]"
     ]
    },
    {
     "name": "stdout",
     "output_type": "stream",
     "text": [
      "[INFO] EPOCH: 26/50\n",
      "Train loss: 0.254088, Val loss: 0.2379\n",
      "Val metric for class 0: 0.728831\n",
      "Val metric for class 1: 0.767144\n",
      "Val metric for class 2: 0.629908\n"
     ]
    },
    {
     "name": "stderr",
     "output_type": "stream",
     "text": [
      " 54%|█████▍    | 27/50 [32:59<28:39, 74.76s/it]"
     ]
    },
    {
     "name": "stdout",
     "output_type": "stream",
     "text": [
      "[INFO] EPOCH: 27/50\n",
      "Train loss: 0.237422, Val loss: 0.2474\n",
      "Val metric for class 0: 0.736629\n",
      "Val metric for class 1: 0.764615\n",
      "Val metric for class 2: 0.730244\n"
     ]
    },
    {
     "name": "stderr",
     "output_type": "stream",
     "text": [
      " 56%|█████▌    | 28/50 [34:10<26:56, 73.49s/it]"
     ]
    },
    {
     "name": "stdout",
     "output_type": "stream",
     "text": [
      "[INFO] EPOCH: 28/50\n",
      "Train loss: 0.235343, Val loss: 0.2253\n",
      "Val metric for class 0: 0.734680\n",
      "Val metric for class 1: 0.775731\n",
      "Val metric for class 2: 0.680453\n"
     ]
    },
    {
     "name": "stderr",
     "output_type": "stream",
     "text": [
      " 58%|█████▊    | 29/50 [35:20<25:23, 72.57s/it]"
     ]
    },
    {
     "name": "stdout",
     "output_type": "stream",
     "text": [
      "[INFO] EPOCH: 29/50\n",
      "Train loss: 0.247331, Val loss: 0.2214\n",
      "Val metric for class 0: 0.741130\n",
      "Val metric for class 1: 0.760355\n",
      "Val metric for class 2: 0.757748\n"
     ]
    },
    {
     "name": "stderr",
     "output_type": "stream",
     "text": [
      " 60%|██████    | 30/50 [36:31<24:00, 72.03s/it]"
     ]
    },
    {
     "name": "stdout",
     "output_type": "stream",
     "text": [
      "[INFO] EPOCH: 30/50\n",
      "Train loss: 0.250098, Val loss: 0.2141\n",
      "Val metric for class 0: 0.738414\n",
      "Val metric for class 1: 0.777121\n",
      "Val metric for class 2: 0.706005\n"
     ]
    },
    {
     "name": "stderr",
     "output_type": "stream",
     "text": [
      " 62%|██████▏   | 31/50 [37:50<23:29, 74.19s/it]"
     ]
    },
    {
     "name": "stdout",
     "output_type": "stream",
     "text": [
      "[INFO] EPOCH: 31/50\n",
      "Train loss: 0.265458, Val loss: 0.2271\n",
      "Val metric for class 0: 0.732480\n",
      "Val metric for class 1: 0.704146\n",
      "Val metric for class 2: 0.800112\n"
     ]
    },
    {
     "name": "stderr",
     "output_type": "stream",
     "text": [
      " 64%|██████▍   | 32/50 [39:04<22:13, 74.06s/it]"
     ]
    },
    {
     "name": "stdout",
     "output_type": "stream",
     "text": [
      "[INFO] EPOCH: 32/50\n",
      "Train loss: 0.234423, Val loss: 0.2277\n",
      "Val metric for class 0: 0.737003\n",
      "Val metric for class 1: 0.779840\n",
      "Val metric for class 2: 0.636334\n"
     ]
    },
    {
     "name": "stderr",
     "output_type": "stream",
     "text": [
      " 66%|██████▌   | 33/50 [40:19<21:05, 74.46s/it]"
     ]
    },
    {
     "name": "stdout",
     "output_type": "stream",
     "text": [
      "[INFO] EPOCH: 33/50\n",
      "Train loss: 0.249142, Val loss: 0.2291\n",
      "Val metric for class 0: 0.743307\n",
      "Val metric for class 1: 0.692895\n",
      "Val metric for class 2: 0.795331\n"
     ]
    },
    {
     "name": "stderr",
     "output_type": "stream",
     "text": [
      " 68%|██████▊   | 34/50 [41:33<19:49, 74.34s/it]"
     ]
    },
    {
     "name": "stdout",
     "output_type": "stream",
     "text": [
      "[INFO] EPOCH: 34/50\n",
      "Train loss: 0.234373, Val loss: 0.2294\n",
      "Val metric for class 0: 0.743917\n",
      "Val metric for class 1: 0.785533\n",
      "Val metric for class 2: 0.634775\n"
     ]
    },
    {
     "name": "stderr",
     "output_type": "stream",
     "text": [
      " 70%|███████   | 35/50 [42:46<18:28, 73.89s/it]"
     ]
    },
    {
     "name": "stdout",
     "output_type": "stream",
     "text": [
      "[INFO] EPOCH: 35/50\n",
      "Train loss: 0.231326, Val loss: 0.2176\n",
      "Val metric for class 0: 0.749059\n",
      "Val metric for class 1: 0.724117\n",
      "Val metric for class 2: 0.803352\n"
     ]
    },
    {
     "name": "stderr",
     "output_type": "stream",
     "text": [
      " 72%|███████▏  | 36/50 [44:01<17:19, 74.27s/it]"
     ]
    },
    {
     "name": "stdout",
     "output_type": "stream",
     "text": [
      "[INFO] EPOCH: 36/50\n",
      "Train loss: 0.218536, Val loss: 0.2422\n",
      "Val metric for class 0: 0.735105\n",
      "Val metric for class 1: 0.779301\n",
      "Val metric for class 2: 0.608503\n"
     ]
    },
    {
     "name": "stderr",
     "output_type": "stream",
     "text": [
      " 74%|███████▍  | 37/50 [45:15<16:05, 74.24s/it]"
     ]
    },
    {
     "name": "stdout",
     "output_type": "stream",
     "text": [
      "[INFO] EPOCH: 37/50\n",
      "Train loss: 0.234551, Val loss: 0.2132\n",
      "Val metric for class 0: 0.749035\n",
      "Val metric for class 1: 0.780515\n",
      "Val metric for class 2: 0.691510\n"
     ]
    },
    {
     "name": "stderr",
     "output_type": "stream",
     "text": [
      " 76%|███████▌  | 38/50 [46:35<15:10, 75.91s/it]"
     ]
    },
    {
     "name": "stdout",
     "output_type": "stream",
     "text": [
      "[INFO] EPOCH: 38/50\n",
      "Train loss: 0.214058, Val loss: 0.2069\n",
      "Val metric for class 0: 0.733636\n",
      "Val metric for class 1: 0.767801\n",
      "Val metric for class 2: 0.743537\n"
     ]
    },
    {
     "name": "stderr",
     "output_type": "stream",
     "text": [
      " 78%|███████▊  | 39/50 [47:51<13:54, 75.90s/it]"
     ]
    },
    {
     "name": "stdout",
     "output_type": "stream",
     "text": [
      "[INFO] EPOCH: 39/50\n",
      "Train loss: 0.244537, Val loss: 0.2144\n",
      "Val metric for class 0: 0.744033\n",
      "Val metric for class 1: 0.756564\n",
      "Val metric for class 2: 0.763840\n"
     ]
    },
    {
     "name": "stderr",
     "output_type": "stream",
     "text": [
      " 80%|████████  | 40/50 [49:04<12:31, 75.12s/it]"
     ]
    },
    {
     "name": "stdout",
     "output_type": "stream",
     "text": [
      "[INFO] EPOCH: 40/50\n",
      "Train loss: 0.216189, Val loss: 0.2052\n",
      "Val metric for class 0: 0.748803\n",
      "Val metric for class 1: 0.779412\n",
      "Val metric for class 2: 0.698797\n"
     ]
    },
    {
     "name": "stderr",
     "output_type": "stream",
     "text": [
      " 82%|████████▏ | 41/50 [50:19<11:14, 74.99s/it]"
     ]
    },
    {
     "name": "stdout",
     "output_type": "stream",
     "text": [
      "[INFO] EPOCH: 41/50\n",
      "Train loss: 0.234537, Val loss: 0.2149\n",
      "Val metric for class 0: 0.747737\n",
      "Val metric for class 1: 0.762551\n",
      "Val metric for class 2: 0.755882\n"
     ]
    },
    {
     "name": "stderr",
     "output_type": "stream",
     "text": [
      " 84%|████████▍ | 42/50 [51:31<09:53, 74.17s/it]"
     ]
    },
    {
     "name": "stdout",
     "output_type": "stream",
     "text": [
      "[INFO] EPOCH: 42/50\n",
      "Train loss: 0.232508, Val loss: 0.2404\n",
      "Val metric for class 0: 0.596561\n",
      "Val metric for class 1: 0.785035\n",
      "Val metric for class 2: 0.711476\n"
     ]
    },
    {
     "name": "stderr",
     "output_type": "stream",
     "text": [
      " 86%|████████▌ | 43/50 [52:43<08:34, 73.43s/it]"
     ]
    },
    {
     "name": "stdout",
     "output_type": "stream",
     "text": [
      "[INFO] EPOCH: 43/50\n",
      "Train loss: 0.220671, Val loss: 0.1992\n",
      "Val metric for class 0: 0.751614\n",
      "Val metric for class 1: 0.767582\n",
      "Val metric for class 2: 0.768322\n"
     ]
    },
    {
     "name": "stderr",
     "output_type": "stream",
     "text": [
      " 88%|████████▊ | 44/50 [53:54<07:16, 72.67s/it]"
     ]
    },
    {
     "name": "stdout",
     "output_type": "stream",
     "text": [
      "[INFO] EPOCH: 44/50\n",
      "Train loss: 0.214748, Val loss: 0.2102\n",
      "Val metric for class 0: 0.739394\n",
      "Val metric for class 1: 0.779273\n",
      "Val metric for class 2: 0.704741\n"
     ]
    },
    {
     "name": "stderr",
     "output_type": "stream",
     "text": [
      " 90%|█████████ | 45/50 [55:08<06:06, 73.21s/it]"
     ]
    },
    {
     "name": "stdout",
     "output_type": "stream",
     "text": [
      "[INFO] EPOCH: 45/50\n",
      "Train loss: 0.215134, Val loss: 0.2075\n",
      "Val metric for class 0: 0.741470\n",
      "Val metric for class 1: 0.765291\n",
      "Val metric for class 2: 0.791011\n"
     ]
    },
    {
     "name": "stderr",
     "output_type": "stream",
     "text": [
      " 92%|█████████▏| 46/50 [56:23<04:54, 73.75s/it]"
     ]
    },
    {
     "name": "stdout",
     "output_type": "stream",
     "text": [
      "[INFO] EPOCH: 46/50\n",
      "Train loss: 0.219277, Val loss: 0.2469\n",
      "Val metric for class 0: 0.730906\n",
      "Val metric for class 1: 0.775973\n",
      "Val metric for class 2: 0.625462\n"
     ]
    },
    {
     "name": "stderr",
     "output_type": "stream",
     "text": [
      " 94%|█████████▍| 47/50 [57:39<03:42, 74.24s/it]"
     ]
    },
    {
     "name": "stdout",
     "output_type": "stream",
     "text": [
      "[INFO] EPOCH: 47/50\n",
      "Train loss: 0.235755, Val loss: 0.2002\n",
      "Val metric for class 0: 0.751318\n",
      "Val metric for class 1: 0.779454\n",
      "Val metric for class 2: 0.756898\n"
     ]
    },
    {
     "name": "stderr",
     "output_type": "stream",
     "text": [
      " 96%|█████████▌| 48/50 [59:00<02:32, 76.31s/it]"
     ]
    },
    {
     "name": "stdout",
     "output_type": "stream",
     "text": [
      "[INFO] EPOCH: 48/50\n",
      "Train loss: 0.230918, Val loss: 0.2182\n",
      "Val metric for class 0: 0.748429\n",
      "Val metric for class 1: 0.777416\n",
      "Val metric for class 2: 0.701840\n"
     ]
    },
    {
     "name": "stderr",
     "output_type": "stream",
     "text": [
      " 98%|█████████▊| 49/50 [1:00:15<01:16, 76.00s/it]"
     ]
    },
    {
     "name": "stdout",
     "output_type": "stream",
     "text": [
      "[INFO] EPOCH: 49/50\n",
      "Train loss: 0.246220, Val loss: 0.2358\n",
      "Val metric for class 0: 0.738925\n",
      "Val metric for class 1: 0.771934\n",
      "Val metric for class 2: 0.649264\n"
     ]
    },
    {
     "name": "stderr",
     "output_type": "stream",
     "text": [
      "100%|██████████| 50/50 [1:01:30<00:00, 73.81s/it]"
     ]
    },
    {
     "name": "stdout",
     "output_type": "stream",
     "text": [
      "[INFO] EPOCH: 50/50\n",
      "Train loss: 0.239552, Val loss: 0.2334\n",
      "Val metric for class 0: 0.722746\n",
      "Val metric for class 1: 0.764454\n",
      "Val metric for class 2: 0.660149\n",
      "[INFO] total time taken to train the model: 3690.71s\n"
     ]
    },
    {
     "name": "stderr",
     "output_type": "stream",
     "text": [
      "\n"
     ]
    }
   ],
   "source": [
    "unet = mergedTraining(train_img_names, val_img_names, thumbnails_dict)"
   ]
  },
  {
   "cell_type": "code",
   "execution_count": null,
   "metadata": {},
   "outputs": [],
   "source": [
    "# Serialize the model to disk\n",
    "torch.save(unet, MODEL_PATH)"
   ]
  },
  {
   "cell_type": "code",
   "execution_count": 4,
   "metadata": {},
   "outputs": [],
   "source": [
    "# testingLoss = testing(unet, test_img_names)"
   ]
  }
 ],
 "metadata": {
  "kernelspec": {
   "display_name": "Python 3.8.10 ('env': venv)",
   "language": "python",
   "name": "python3"
  },
  "language_info": {
   "codemirror_mode": {
    "name": "ipython",
    "version": 3
   },
   "file_extension": ".py",
   "mimetype": "text/x-python",
   "name": "python",
   "nbconvert_exporter": "python",
   "pygments_lexer": "ipython3",
   "version": "3.8.10"
  },
  "orig_nbformat": 4,
  "vscode": {
   "interpreter": {
    "hash": "de4631684bd2c882b6b797b2a828f7be340f598e9083880a321a8ea7c6fac874"
   }
  }
 },
 "nbformat": 4,
 "nbformat_minor": 2
}
