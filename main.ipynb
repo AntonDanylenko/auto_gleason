{
 "cells": [
  {
   "cell_type": "markdown",
   "metadata": {},
   "source": [
    "# Automated Gleason Grading"
   ]
  },
  {
   "cell_type": "markdown",
   "metadata": {},
   "source": [
    "## Imports"
   ]
  },
  {
   "cell_type": "code",
   "execution_count": 1,
   "metadata": {},
   "outputs": [],
   "source": [
    "import os\n",
    "\n",
    "import openslide\n",
    "\n",
    "# Torch packages\n",
    "import torch\n",
    "from torch.utils.data import Dataset\n",
    "from torch.nn import ConvTranspose2d\n",
    "from torch.nn import Conv2d\n",
    "from torch.nn import MaxPool2d\n",
    "from torch.nn import Module\n",
    "from torch.nn import ModuleList\n",
    "from torch.nn import ReLU\n",
    "from torch.nn import functional as F\n",
    "from torch.nn import BCEWithLogitsLoss\n",
    "from torch.optim import Adam\n",
    "from torch.utils.data import DataLoader\n",
    "from torchvision import transforms\n",
    "\n",
    "# General packages\n",
    "import pandas as pd\n",
    "import numpy as np\n",
    "import numpy.random as random\n",
    "import matplotlib\n",
    "import matplotlib.pyplot as plt\n",
    "import math\n",
    "import time\n",
    "from tqdm import tqdm\n",
    "import pickle"
   ]
  },
  {
   "cell_type": "markdown",
   "metadata": {},
   "source": [
    "## Load Dataset"
   ]
  },
  {
   "cell_type": "code",
   "execution_count": 2,
   "metadata": {},
   "outputs": [
    {
     "name": "stdout",
     "output_type": "stream",
     "text": [
      "cuda\n"
     ]
    }
   ],
   "source": [
    "# Location of the training images\n",
    "DATA_PATH = '../../ganz/data/panda_dataset'\n",
    "\n",
    "# image and mask directories\n",
    "data_dir = f'{DATA_PATH}/train_images'\n",
    "mask_dir = f'{DATA_PATH}/train_label_masks'\n",
    "\n",
    "# Location of training labels\n",
    "train = pd.read_csv(f'{DATA_PATH}/train.csv').set_index('image_id')\n",
    "test = pd.read_csv(f'{DATA_PATH}/test.csv').set_index('image_id')\n",
    "submission = pd.read_csv(f'{DATA_PATH}/sample_submission.csv')\n",
    "\n",
    "# # Create training image name list\n",
    "# all_train_img_names = list(train.index)[:12]\n",
    "\n",
    "# Get mask thumbnail dictionary\n",
    "with open(\"./data/thumbnails.p\", \"rb\") as fp:\n",
    "    thumbnails_dict = pickle.load(fp)\n",
    "\n",
    "# determine the device to be used for training and evaluation\n",
    "DEVICE = \"cuda\" if torch.cuda.is_available() else \"cpu\"\n",
    "print(DEVICE)\n",
    "# # determine if we will be pinning memory during data loading\n",
    "# PIN_MEMORY = True if DEVICE == \"cuda\" else False"
   ]
  },
  {
   "cell_type": "markdown",
   "metadata": {},
   "source": [
    "## Visualize Data"
   ]
  },
  {
   "cell_type": "markdown",
   "metadata": {},
   "source": [
    "### Sample Images"
   ]
  },
  {
   "cell_type": "code",
   "execution_count": 3,
   "metadata": {},
   "outputs": [],
   "source": [
    "# all_train_img_names = [\n",
    "#     '07a7ef0ba3bb0d6564a73f4f3e1c2293',\n",
    "#     '037504061b9fba71ef6e24c48c6df44d',\n",
    "#     '035b1edd3d1aeeffc77ce5d248a01a53',\n",
    "#     '059cbf902c5e42972587c8d17d49efed',\n",
    "#     '06a0cbd8fd6320ef1aa6f19342af2e68',\n",
    "#     '06eda4a6faca84e84a781fee2d5f47e1',\n",
    "#     '0a4b7a7499ed55c71033cefb0765e93d',\n",
    "#     '0838c82917cd9af681df249264d2769c',\n",
    "#     '046b35ae95374bfb48cdca8d7c83233f',\n",
    "#     '074c3e01525681a275a42282cd21cbde',\n",
    "#     '05abe25c883d508ecc15b6e857e59f32',\n",
    "#     '05f4e9415af9fdabc19109c980daf5ad',\n",
    "#     '060121a06476ef401d8a21d6567dee6d',\n",
    "#     '068b0e3be4c35ea983f77accf8351cc8',\n",
    "#     '08f055372c7b8a7e1df97c6586542ac8'\n",
    "# ]"
   ]
  },
  {
   "cell_type": "markdown",
   "metadata": {},
   "source": [
    "## Patch Segmentation"
   ]
  },
  {
   "cell_type": "markdown",
   "metadata": {},
   "source": [
    "### Initialize Globals"
   ]
  },
  {
   "cell_type": "code",
   "execution_count": 4,
   "metadata": {},
   "outputs": [],
   "source": [
    "# define the number of channels in the input, number of classes,\n",
    "# and number of levels in the U-Net model\n",
    "NUM_CHANNELS = 1\n",
    "NUM_CLASSES = 1\n",
    "NUM_LEVELS = 3\n",
    "# initialize learning rate, number of epochs to train for, and the batch size\n",
    "INIT_LR = 0.001\n",
    "NUM_EPOCHS = 10\n",
    "BATCH_SIZE = 64\n",
    "# define the input image dimensions\n",
    "PATCH_WIDTH = 256\n",
    "PATCH_HEIGHT = 256\n",
    "# define threshold to filter weak predictions\n",
    "THRESHOLD = 0.5\n",
    "\n",
    "# define the validation split\n",
    "VAL_SPLIT = 0.85\n",
    "\n",
    "# define the test split\n",
    "TEST_SPLIT = 0.95\n",
    "\n",
    "# define the path to the base output directory\n",
    "BASE_OUTPUT = \"./output\"\n",
    "# define the path to the output serialized model, model training\n",
    "# plot, and testing image paths\n",
    "MODEL_PATH = f\"{BASE_OUTPUT}/unet_tgs_salt.pth\"\n",
    "PLOT_PATH = f\"{BASE_OUTPUT}/plot.png\"\n",
    "TEST_PATHS = f\"{BASE_OUTPUT}/test_paths.txt\""
   ]
  },
  {
   "cell_type": "markdown",
   "metadata": {},
   "source": [
    "### Dataset Class"
   ]
  },
  {
   "cell_type": "code",
   "execution_count": 5,
   "metadata": {},
   "outputs": [],
   "source": [
    "class SegmentationDataset(Dataset):\n",
    "  def __init__(self, \n",
    "              wsi_names, \n",
    "              mask_thumbnails,\n",
    "              pseudo_epoch_length: int = 1024, \n",
    "              transformations = None):\n",
    "    self.wsi_names = wsi_names\n",
    "    self.mask_thumbnails = mask_thumbnails\n",
    "    self.pseudo_epoch_length = pseudo_epoch_length\n",
    "\n",
    "    # opens all slides and stores them in slide_dict\n",
    "    self.slide_dict = self.make_slide_dict(wsi_names=self.wsi_names)\n",
    "\n",
    "    # samples a list of patch coordinates and annotations \n",
    "    self.sample_dict = self.sample_coord_list(pseudo_epoch_length=self.pseudo_epoch_length)\n",
    "\n",
    "    if transformations is not None:\n",
    "      self.transformations = transformations\n",
    "    else:\n",
    "      self.transformations = transforms.Compose([transforms.ToTensor()])\n",
    "\n",
    "  def make_slide_dict(self, wsi_names):\n",
    "    slide_dict = {}\n",
    "    bad_samples = []\n",
    "    for wsi_name in tqdm(wsi_names, total=len(wsi_names), desc='Make Slide Dict'):\n",
    "      if wsi_name not in slide_dict:\n",
    "        slide_path = os.path.join(data_dir, f'{wsi_name}.tiff')\n",
    "        mask_path = os.path.join(mask_dir, f'{wsi_name}_mask.tiff')\n",
    "        if os.path.exists(slide_path) and os.path.exists(mask_path):\n",
    "          slide_dict[wsi_name] = {}\n",
    "          slide_dict[wsi_name]['slide'] = openslide.OpenSlide(slide_path)\n",
    "          slide_dict[wsi_name]['mask'] = openslide.OpenSlide(mask_path)\n",
    "          slide_dict[wsi_name]['size'] = slide_dict[wsi_name]['slide'].dimensions\n",
    "        else:\n",
    "          bad_samples.append(wsi_name)\n",
    "    # print(bad_samples)\n",
    "    # print(len(bad_samples))\n",
    "    for wsi_name in bad_samples:\n",
    "      self.wsi_names.remove(wsi_name)\n",
    "    return slide_dict\n",
    "\n",
    "  def sample_coord_list(self, pseudo_epoch_length):\n",
    "    # # sample random coordinates\n",
    "    # filenames, coords = self._sample_random_coords(pseudo_epoch_length)\n",
    "\n",
    "    # sample nonempty coordinates\n",
    "    filenames, coords = self._sample_nonempty_coords(pseudo_epoch_length)\n",
    "    \n",
    "    # bring everything in one dict\n",
    "    sample_dict = {}\n",
    "    for index, (filename, coord) in enumerate(zip(filenames, coords)):\n",
    "      sample_dict[index] = {'filename': filename, 'coordinates': coord}\n",
    "\n",
    "    return sample_dict\n",
    "\n",
    "  def _sample_nonempty_coords(self, pseudo_epoch_length):\n",
    "    filenames = []\n",
    "    coords = []\n",
    "    for i in range(pseudo_epoch_length):\n",
    "      filename = random.choice(self.wsi_names, size=1)[0]\n",
    "      mask_slide = self.slide_dict[filename]['mask']\n",
    "      width, height = self.slide_dict[filename]['size']\n",
    "      mask_thumbnail = self.mask_thumbnails[filename]\n",
    "      # thumbnail_width, thumbnail_height = mask_thumbnail.size()\n",
    "      indices = np.transpose(np.where(mask_thumbnail>0.001))\n",
    "      rand_index = random.randint(len(indices))\n",
    "      coord = indices[rand_index]\n",
    "      # coord = []\n",
    "      # only_background = True\n",
    "      # while only_background:\n",
    "      #   coord = list(random.randint(low=(0, 0), \n",
    "      #                               high=(thumbnail_width, thumbnail_height),\n",
    "      #                               size=2))\n",
    "      #   # print(mask_thumbnail[coord[0]][coord[1]])\n",
    "      #   if mask_thumbnail[coord[0]][coord[1]]>0:\n",
    "      #     only_background = False\n",
    "      coord[0] = coord[0]*PATCH_WIDTH + random.randint(low=-PATCH_WIDTH//2,\n",
    "                                                        high=PATCH_WIDTH//2)\n",
    "      if coord[0]<0: coord[0]=0\n",
    "      if coord[0]>width-PATCH_WIDTH: coord[0]=width-PATCH_WIDTH\n",
    "      coord[1] = coord[1]*PATCH_HEIGHT + random.randint(low=-PATCH_HEIGHT//2,\n",
    "                                                        high=PATCH_HEIGHT//2)\n",
    "      if coord[1]<0: coord[1]=0\n",
    "      if coord[1]>height-PATCH_HEIGHT: coord[1]=height-PATCH_HEIGHT\n",
    "      # print(\"Nonempty patch found\")\n",
    "      filenames.append(filename)\n",
    "      coords.append(coord)\n",
    "    return filenames, coords\n",
    "\n",
    "  def _sample_random_coords(self, pseudo_epoch_length):\n",
    "    filenames = list(random.choice(self.wsi_names, size=pseudo_epoch_length, replace=True))\n",
    "    coords = []\n",
    "    for filename in filenames:\n",
    "      width, height = self.slide_dict[filename]['size']\n",
    "      xy = list(random.randint(low=(0, 0), \n",
    "                              high=(width-PATCH_WIDTH, height-PATCH_HEIGHT),\n",
    "                              size=2))\n",
    "      coords.append(xy)\n",
    "    return filenames, coords\n",
    "\n",
    "  def __len__(self):\n",
    "    # return the number of total samples\n",
    "    return self.pseudo_epoch_length\n",
    "\n",
    "  def __getitem__(self, index):\n",
    "    # grab the image from the current index\n",
    "    coords = self.sample_dict[index]['coordinates'].copy()\n",
    "    filename = self.sample_dict[index]['filename']\n",
    "\n",
    "    # load patch and mask\n",
    "    img, mask = self.load_image(filename, coords)\n",
    "\n",
    "    img = self.transformations(img)\n",
    "    mask = self.transformations(mask)\n",
    "\n",
    "    return img, mask\n",
    "\n",
    "  def load_image(self, filename, coords):\n",
    "    \"\"\"Loads an image and corresponding mask patch from a slide and returns it as a numpy array.\"\"\"\n",
    "    slide = self.slide_dict[filename]['slide']\n",
    "    patch = slide.read_region(coords, size=(PATCH_WIDTH, PATCH_HEIGHT), level=0).convert('RGB')\n",
    "    mask_slide = self.slide_dict[filename]['mask']\n",
    "    mask_patch = mask_slide.read_region(coords, size=(PATCH_WIDTH, PATCH_HEIGHT), level=mask_slide.level_count-1).convert('RGB')\n",
    "    # print(mask_patch.size)\n",
    "    # cmap = matplotlib.colors.ListedColormap(['black', 'gray', 'green', 'yellow', 'orange', 'red'])\n",
    "    # plt.imshow(np.asarray(mask_patch)[:,:,0], cmap=cmap, interpolation='nearest', vmin=0, vmax=5) \n",
    "    # plt.show()\n",
    "    return np.asarray(patch, dtype=np.uint8), np.asarray(mask_patch, dtype=np.uint8)"
   ]
  },
  {
   "cell_type": "markdown",
   "metadata": {},
   "source": [
    "### UNET Modules"
   ]
  },
  {
   "cell_type": "code",
   "execution_count": 14,
   "metadata": {},
   "outputs": [],
   "source": [
    "class Block(Module):\n",
    "\tdef __init__(self, inChannels, outChannels):\n",
    "\t\tsuper().__init__()\n",
    "\t\t# store the convolution and RELU layers\n",
    "\t\tself.conv1 = Conv2d(inChannels, outChannels, 3)\n",
    "\t\tself.relu = ReLU()\n",
    "\t\tself.conv2 = Conv2d(outChannels, outChannels, 3)\n",
    "    \n",
    "\tdef forward(self, x):\n",
    "\t\t# apply CONV => RELU => CONV block to the inputs and return it\n",
    "\t\treturn self.conv2(self.relu(self.conv1(x)))\n",
    "\n",
    "class Encoder(Module):\n",
    "\tdef __init__(self, channels=(3, 16, 32, 64)):\n",
    "\t\tsuper().__init__()\n",
    "\t\t# store the encoder blocks and maxpooling layer\n",
    "\t\tself.encBlocks = ModuleList(\n",
    "\t\t\t[Block(channels[i], channels[i + 1])\n",
    "\t\t\t \tfor i in range(len(channels) - 1)])\n",
    "\t\tself.pool = MaxPool2d(2)\n",
    "    \n",
    "\tdef forward(self, x):\n",
    "\t\t# initialize an empty list to store the intermediate outputs\n",
    "\t\tblockOutputs = []\n",
    "\t\t# loop through the encoder blocks\n",
    "\t\tfor block in self.encBlocks:\n",
    "\t\t\t# pass the inputs through the current encoder block, store\n",
    "\t\t\t# the outputs, and then apply maxpooling on the output\n",
    "\t\t\tx = block(x)\n",
    "\t\t\tblockOutputs.append(x)\n",
    "\t\t\tx = self.pool(x)\n",
    "\t\t# return the list containing the intermediate outputs\n",
    "\t\treturn blockOutputs\n",
    "\n",
    "class Decoder(Module):\n",
    "\tdef __init__(self, channels=(64, 32, 16)):\n",
    "\t\tsuper().__init__()\n",
    "\t\t# initialize the number of channels, upsampler blocks, and\n",
    "\t\t# decoder blocks\n",
    "\t\tself.channels = channels\n",
    "\t\tself.upconvs = ModuleList(\n",
    "\t\t\t[ConvTranspose2d(channels[i], channels[i + 1], 2, 2)\n",
    "\t\t\t \tfor i in range(len(channels) - 1)])\n",
    "\t\tself.dec_blocks = ModuleList(\n",
    "\t\t\t[Block(channels[i], channels[i + 1])\n",
    "\t\t\t \tfor i in range(len(channels) - 1)])\n",
    "\n",
    "\tdef forward(self, x, encFeatures):\n",
    "\t\t# loop through the number of channels\n",
    "\t\tfor i in range(len(self.channels) - 1):\n",
    "\t\t\t# pass the inputs through the upsampler blocks\n",
    "\t\t\tx = self.upconvs[i](x)\n",
    "\t\t\t# crop the current features from the encoder blocks,\n",
    "\t\t\t# concatenate them with the current upsampled features,\n",
    "\t\t\t# and pass the concatenated output through the current\n",
    "\t\t\t# decoder block\n",
    "\t\t\tencFeat = self.crop(encFeatures[i], x)\n",
    "\t\t\tx = torch.cat([x, encFeat], dim=1)\n",
    "\t\t\tx = self.dec_blocks[i](x)\n",
    "\t\t# return the final decoder output\n",
    "\t\treturn x\n",
    "    \n",
    "\tdef crop(self, encFeatures, x):\n",
    "\t\t# grab the dimensions of the inputs, and crop the encoder\n",
    "\t\t# features to match the dimensions\n",
    "\t\t# print(x.shape)\n",
    "\t\t(_, _, H, W) = x.shape\n",
    "\t\t# H = x.shape[-2]\n",
    "\t\t# W = x.shape[-1]\n",
    "\t\tencFeatures = transforms.CenterCrop([H, W])(encFeatures)\n",
    "\t\t# return the cropped features\n",
    "\t\treturn encFeatures\n",
    "\t\t\n",
    "class UNet(Module):\n",
    "\tdef __init__(self, encChannels=(3, 16, 32, 64),\n",
    "\t\t decChannels=(64, 32, 16),\n",
    "\t\t nbClasses=1, retainDim=True,\n",
    "\t\t outSize=(PATCH_WIDTH, PATCH_HEIGHT)):\n",
    "\t\tsuper().__init__()\n",
    "\t\t# initialize the encoder and decoder\n",
    "\t\tself.encoder = Encoder(encChannels)\n",
    "\t\tself.decoder = Decoder(decChannels)\n",
    "\t\t# initialize the regression head and store the class variables\n",
    "\t\tself.head = Conv2d(decChannels[-1], nbClasses, 1)\n",
    "\t\tself.retainDim = retainDim\n",
    "\t\tself.outSize = outSize\n",
    "\n",
    "\tdef forward(self, x):\n",
    "\t\t# grab the features from the encoder\n",
    "\t\tencFeatures = self.encoder(x)\n",
    "\t\t# pass the encoder features through decoder making sure that\n",
    "\t\t# their dimensions are suited for concatenation\n",
    "\t\tdecFeatures = self.decoder(encFeatures[::-1][0],\n",
    "\t\t\tencFeatures[::-1][1:])\n",
    "\t\t# pass the decoder features through the regression head to\n",
    "\t\t# obtain the segmentation mask\n",
    "\t\tmap = self.head(decFeatures)\n",
    "\t\t# check to see if we are retaining the original output\n",
    "\t\t# dimensions and if so, then resize the output to match them\n",
    "\t\tif self.retainDim:\n",
    "\t\t\tmap = F.interpolate(map, self.outSize)\n",
    "\t\t# return the segmentation map\n",
    "\t\treturn map"
   ]
  },
  {
   "cell_type": "markdown",
   "metadata": {},
   "source": [
    "### Training"
   ]
  },
  {
   "cell_type": "code",
   "execution_count": 7,
   "metadata": {},
   "outputs": [
    {
     "name": "stdout",
     "output_type": "stream",
     "text": [
      "[15  9]\n"
     ]
    },
    {
     "data": {
      "image/png": "[encoded data removed]",
      "text/plain": [
       "<Figure size 432x288 with 1 Axes>"
      ]
     },
     "metadata": {
      "needs_background": "light"
     },
     "output_type": "display_data"
    }
   ],
   "source": [
    "thumbnail = thumbnails_dict['07a7ef0ba3bb0d6564a73f4f3e1c2293']\n",
    "# print(thumbnail[80])\n",
    "plt.imshow(thumbnail)\n",
    "indices = np.transpose(np.where(thumbnail>0.001))\n",
    "# print(indices)\n",
    "rand_index = random.randint(len(indices))\n",
    "coord = indices[rand_index]\n",
    "print(coord)"
   ]
  },
  {
   "cell_type": "code",
   "execution_count": 15,
   "metadata": {},
   "outputs": [
    {
     "name": "stderr",
     "output_type": "stream",
     "text": [
      "Make Slide Dict: 100%|██████████| 4166/4166 [00:03<00:00, 1149.01it/s]\n",
      "Make Slide Dict: 100%|██████████| 736/736 [00:00<00:00, 1188.57it/s]\n"
     ]
    },
    {
     "name": "stdout",
     "output_type": "stream",
     "text": [
      "[INFO] found 1024 samples in the training set...\n",
      "[INFO] found 1024 samples in the validation set...\n"
     ]
    }
   ],
   "source": [
    "# Take only radboud slides\n",
    "radboud = train.loc[train[\"data_provider\"]==\"radboud\"]\n",
    "\n",
    "# Take only wsi names\n",
    "all__img_names = list(radboud.index)\n",
    "\n",
    "test_split_size = math.floor(TEST_SPLIT*len(all__img_names))\n",
    "test_split = torch.utils.data.random_split(all__img_names,\n",
    "\t\t\t\t\t\t\t\t\t[test_split_size, len(all__img_names)-test_split_size], \n",
    "\t\t\t\t\t\t\t\t\tgenerator=torch.Generator().manual_seed(42))\n",
    "\n",
    "(all_train_img_names, test_img_names) = test_split\n",
    "all_train_img_names = list(all_train_img_names)\n",
    "test_img_names = list(test_img_names)\n",
    "\n",
    "# partition the data into training and validation splits using 85% of\n",
    "# the data for training and the remaining 15% for validation\n",
    "split_size = math.floor(VAL_SPLIT*len(all_train_img_names))\n",
    "split = torch.utils.data.random_split(all_train_img_names,\n",
    "\t\t\t\t\t\t\t\t\t[split_size, len(all_train_img_names)-split_size], \n",
    "\t\t\t\t\t\t\t\t\tgenerator=torch.Generator().manual_seed(42))\n",
    "\n",
    "# unpack the data split\n",
    "(train_img_names, val_img_names) = split\n",
    "train_img_names = list(train_img_names)\n",
    "val_img_names = list(val_img_names)\n",
    "# print(train_img_names[:10])\n",
    "# print(val_img_names[:10])\n",
    "\n",
    "# create the train and validation datasets\n",
    "trainDS = SegmentationDataset(wsi_names=train_img_names, mask_thumbnails=thumbnails_dict, pseudo_epoch_length=1024)\n",
    "valDS = SegmentationDataset(wsi_names=val_img_names, mask_thumbnails=thumbnails_dict, pseudo_epoch_length=1024)\n",
    "print(f\"[INFO] found {len(trainDS)} samples in the training set...\")\n",
    "print(f\"[INFO] found {len(valDS)} samples in the validation set...\")\n",
    "\n",
    "# create the training and validation data loaders\n",
    "trainLoader = DataLoader(trainDS, shuffle=True,\n",
    "\tbatch_size=BATCH_SIZE, num_workers=4)\n",
    "valLoader = DataLoader(valDS, shuffle=False,\n",
    "\tbatch_size=BATCH_SIZE, num_workers=4)"
   ]
  },
  {
   "cell_type": "code",
   "execution_count": 9,
   "metadata": {},
   "outputs": [],
   "source": [
    "# model = torch.hub.load('mateuszbuda/brain-segmentation-pytorch', 'unet',\n",
    "#     in_channels=3, out_channels=1, init_features=32, pretrained=True)"
   ]
  },
  {
   "cell_type": "code",
   "execution_count": 16,
   "metadata": {},
   "outputs": [],
   "source": [
    "# initialize our UNet model\n",
    "unet = UNet().to(DEVICE)\n",
    "# initialize loss function and optimizer\n",
    "lossFunc = BCEWithLogitsLoss()\n",
    "opt = Adam(unet.parameters(), lr=INIT_LR)\n",
    "# calculate steps per epoch for training and validation set\n",
    "trainSteps = len(trainDS) // BATCH_SIZE\n",
    "valSteps = len(valDS) // BATCH_SIZE\n",
    "# initialize a dictionary to store training history\n",
    "H = {\"train_loss\": [], \"val_loss\": []}"
   ]
  },
  {
   "cell_type": "code",
   "execution_count": 17,
   "metadata": {},
   "outputs": [
    {
     "name": "stdout",
     "output_type": "stream",
     "text": [
      "[INFO] training the network...\n"
     ]
    },
    {
     "name": "stderr",
     "output_type": "stream",
     "text": [
      "  0%|          | 0/10 [00:00<?, ?it/s]"
     ]
    },
    {
     "name": "stdout",
     "output_type": "stream",
     "text": [
      "torch.Size([64, 3, 256, 256])\n",
      "torch.Size([64, 3, 256, 256])\n",
      "torch.Size([64, 3, 256, 256])\n",
      "torch.Size([64, 3, 256, 256])\n",
      "torch.Size([64, 3, 256, 256])\n",
      "torch.Size([64, 3, 256, 256])\n",
      "torch.Size([64, 3, 256, 256])\n",
      "torch.Size([64, 3, 256, 256])\n",
      "torch.Size([64, 3, 256, 256])\n",
      "torch.Size([64, 3, 256, 256])\n",
      "torch.Size([64, 3, 256, 256])\n",
      "torch.Size([64, 3, 256, 256])\n",
      "torch.Size([64, 3, 256, 256])\n",
      "torch.Size([64, 3, 256, 256])\n",
      "torch.Size([64, 3, 256, 256])\n",
      "torch.Size([64, 3, 256, 256])\n"
     ]
    },
    {
     "name": "stderr",
     "output_type": "stream",
     "text": [
      " 10%|█         | 1/10 [00:10<01:37, 10.84s/it]"
     ]
    },
    {
     "name": "stdout",
     "output_type": "stream",
     "text": [
      "[INFO] EPOCH: 1/10\n",
      "Train loss: 0.275347, Val loss: 0.0222\n",
      "torch.Size([64, 3, 256, 256])\n",
      "torch.Size([64, 3, 256, 256])\n",
      "torch.Size([64, 3, 256, 256])\n",
      "torch.Size([64, 3, 256, 256])\n",
      "torch.Size([64, 3, 256, 256])\n",
      "torch.Size([64, 3, 256, 256])\n",
      "torch.Size([64, 3, 256, 256])\n",
      "torch.Size([64, 3, 256, 256])\n",
      "torch.Size([64, 3, 256, 256])\n",
      "torch.Size([64, 3, 256, 256])\n",
      "torch.Size([64, 3, 256, 256])\n",
      "torch.Size([64, 3, 256, 256])\n",
      "torch.Size([64, 3, 256, 256])\n",
      "torch.Size([64, 3, 256, 256])\n",
      "torch.Size([64, 3, 256, 256])\n",
      "torch.Size([64, 3, 256, 256])\n"
     ]
    },
    {
     "name": "stderr",
     "output_type": "stream",
     "text": [
      " 20%|██        | 2/10 [00:21<01:25, 10.64s/it]"
     ]
    },
    {
     "name": "stdout",
     "output_type": "stream",
     "text": [
      "[INFO] EPOCH: 2/10\n",
      "Train loss: 0.020880, Val loss: 0.0076\n",
      "torch.Size([64, 3, 256, 256])\n",
      "torch.Size([64, 3, 256, 256])\n",
      "torch.Size([64, 3, 256, 256])\n",
      "torch.Size([64, 3, 256, 256])\n",
      "torch.Size([64, 3, 256, 256])\n",
      "torch.Size([64, 3, 256, 256])\n",
      "torch.Size([64, 3, 256, 256])\n",
      "torch.Size([64, 3, 256, 256])\n",
      "torch.Size([64, 3, 256, 256])\n",
      "torch.Size([64, 3, 256, 256])\n",
      "torch.Size([64, 3, 256, 256])\n",
      "torch.Size([64, 3, 256, 256])\n",
      "torch.Size([64, 3, 256, 256])\n",
      "torch.Size([64, 3, 256, 256])\n",
      "torch.Size([64, 3, 256, 256])\n",
      "torch.Size([64, 3, 256, 256])\n"
     ]
    },
    {
     "name": "stderr",
     "output_type": "stream",
     "text": [
      " 30%|███       | 3/10 [00:31<01:13, 10.57s/it]"
     ]
    },
    {
     "name": "stdout",
     "output_type": "stream",
     "text": [
      "[INFO] EPOCH: 3/10\n",
      "Train loss: 0.001814, Val loss: 0.0015\n",
      "torch.Size([64, 3, 256, 256])\n",
      "torch.Size([64, 3, 256, 256])\n",
      "torch.Size([64, 3, 256, 256])\n",
      "torch.Size([64, 3, 256, 256])\n",
      "torch.Size([64, 3, 256, 256])\n",
      "torch.Size([64, 3, 256, 256])\n",
      "torch.Size([64, 3, 256, 256])\n",
      "torch.Size([64, 3, 256, 256])\n",
      "torch.Size([64, 3, 256, 256])\n",
      "torch.Size([64, 3, 256, 256])\n",
      "torch.Size([64, 3, 256, 256])\n",
      "torch.Size([64, 3, 256, 256])\n",
      "torch.Size([64, 3, 256, 256])\n",
      "torch.Size([64, 3, 256, 256])\n",
      "torch.Size([64, 3, 256, 256])\n",
      "torch.Size([64, 3, 256, 256])\n"
     ]
    },
    {
     "name": "stderr",
     "output_type": "stream",
     "text": [
      " 40%|████      | 4/10 [00:42<01:03, 10.59s/it]"
     ]
    },
    {
     "name": "stdout",
     "output_type": "stream",
     "text": [
      "[INFO] EPOCH: 4/10\n",
      "Train loss: 0.000983, Val loss: 0.0015\n",
      "torch.Size([64, 3, 256, 256])\n",
      "torch.Size([64, 3, 256, 256])\n",
      "torch.Size([64, 3, 256, 256])\n",
      "torch.Size([64, 3, 256, 256])\n",
      "torch.Size([64, 3, 256, 256])\n",
      "torch.Size([64, 3, 256, 256])\n",
      "torch.Size([64, 3, 256, 256])\n",
      "torch.Size([64, 3, 256, 256])\n",
      "torch.Size([64, 3, 256, 256])\n",
      "torch.Size([64, 3, 256, 256])\n",
      "torch.Size([64, 3, 256, 256])\n",
      "torch.Size([64, 3, 256, 256])\n",
      "torch.Size([64, 3, 256, 256])\n",
      "torch.Size([64, 3, 256, 256])\n",
      "torch.Size([64, 3, 256, 256])\n",
      "torch.Size([64, 3, 256, 256])\n"
     ]
    },
    {
     "name": "stderr",
     "output_type": "stream",
     "text": [
      " 50%|█████     | 5/10 [00:52<00:52, 10.57s/it]"
     ]
    },
    {
     "name": "stdout",
     "output_type": "stream",
     "text": [
      "[INFO] EPOCH: 5/10\n",
      "Train loss: 0.000933, Val loss: 0.0014\n",
      "torch.Size([64, 3, 256, 256])\n",
      "torch.Size([64, 3, 256, 256])\n",
      "torch.Size([64, 3, 256, 256])\n",
      "torch.Size([64, 3, 256, 256])\n",
      "torch.Size([64, 3, 256, 256])\n",
      "torch.Size([64, 3, 256, 256])\n",
      "torch.Size([64, 3, 256, 256])\n",
      "torch.Size([64, 3, 256, 256])\n",
      "torch.Size([64, 3, 256, 256])\n",
      "torch.Size([64, 3, 256, 256])\n",
      "torch.Size([64, 3, 256, 256])\n",
      "torch.Size([64, 3, 256, 256])\n",
      "torch.Size([64, 3, 256, 256])\n",
      "torch.Size([64, 3, 256, 256])\n",
      "torch.Size([64, 3, 256, 256])\n",
      "torch.Size([64, 3, 256, 256])\n"
     ]
    },
    {
     "name": "stderr",
     "output_type": "stream",
     "text": [
      " 60%|██████    | 6/10 [01:03<00:42, 10.56s/it]"
     ]
    },
    {
     "name": "stdout",
     "output_type": "stream",
     "text": [
      "[INFO] EPOCH: 6/10\n",
      "Train loss: 0.000936, Val loss: 0.0015\n",
      "torch.Size([64, 3, 256, 256])\n",
      "torch.Size([64, 3, 256, 256])\n",
      "torch.Size([64, 3, 256, 256])\n",
      "torch.Size([64, 3, 256, 256])\n",
      "torch.Size([64, 3, 256, 256])\n",
      "torch.Size([64, 3, 256, 256])\n",
      "torch.Size([64, 3, 256, 256])\n",
      "torch.Size([64, 3, 256, 256])\n",
      "torch.Size([64, 3, 256, 256])\n",
      "torch.Size([64, 3, 256, 256])\n",
      "torch.Size([64, 3, 256, 256])\n",
      "torch.Size([64, 3, 256, 256])\n",
      "torch.Size([64, 3, 256, 256])\n",
      "torch.Size([64, 3, 256, 256])\n",
      "torch.Size([64, 3, 256, 256])\n",
      "torch.Size([64, 3, 256, 256])\n"
     ]
    },
    {
     "name": "stderr",
     "output_type": "stream",
     "text": [
      " 70%|███████   | 7/10 [01:13<00:31, 10.51s/it]"
     ]
    },
    {
     "name": "stdout",
     "output_type": "stream",
     "text": [
      "[INFO] EPOCH: 7/10\n",
      "Train loss: 0.000898, Val loss: 0.0014\n",
      "torch.Size([64, 3, 256, 256])\n",
      "torch.Size([64, 3, 256, 256])\n",
      "torch.Size([64, 3, 256, 256])\n",
      "torch.Size([64, 3, 256, 256])\n",
      "torch.Size([64, 3, 256, 256])\n",
      "torch.Size([64, 3, 256, 256])\n",
      "torch.Size([64, 3, 256, 256])\n",
      "torch.Size([64, 3, 256, 256])\n",
      "torch.Size([64, 3, 256, 256])\n",
      "torch.Size([64, 3, 256, 256])\n",
      "torch.Size([64, 3, 256, 256])\n",
      "torch.Size([64, 3, 256, 256])\n",
      "torch.Size([64, 3, 256, 256])\n",
      "torch.Size([64, 3, 256, 256])\n",
      "torch.Size([64, 3, 256, 256])\n",
      "torch.Size([64, 3, 256, 256])\n"
     ]
    },
    {
     "name": "stderr",
     "output_type": "stream",
     "text": [
      " 80%|████████  | 8/10 [01:24<00:21, 10.68s/it]"
     ]
    },
    {
     "name": "stdout",
     "output_type": "stream",
     "text": [
      "[INFO] EPOCH: 8/10\n",
      "Train loss: 0.000870, Val loss: 0.0014\n",
      "torch.Size([64, 3, 256, 256])\n",
      "torch.Size([64, 3, 256, 256])\n",
      "torch.Size([64, 3, 256, 256])\n",
      "torch.Size([64, 3, 256, 256])\n",
      "torch.Size([64, 3, 256, 256])\n",
      "torch.Size([64, 3, 256, 256])\n",
      "torch.Size([64, 3, 256, 256])\n",
      "torch.Size([64, 3, 256, 256])\n",
      "torch.Size([64, 3, 256, 256])\n",
      "torch.Size([64, 3, 256, 256])\n",
      "torch.Size([64, 3, 256, 256])\n",
      "torch.Size([64, 3, 256, 256])\n",
      "torch.Size([64, 3, 256, 256])\n",
      "torch.Size([64, 3, 256, 256])\n",
      "torch.Size([64, 3, 256, 256])\n",
      "torch.Size([64, 3, 256, 256])\n"
     ]
    },
    {
     "name": "stderr",
     "output_type": "stream",
     "text": [
      " 90%|█████████ | 9/10 [01:35<00:10, 10.69s/it]"
     ]
    },
    {
     "name": "stdout",
     "output_type": "stream",
     "text": [
      "[INFO] EPOCH: 9/10\n",
      "Train loss: 0.000850, Val loss: 0.0013\n",
      "torch.Size([64, 3, 256, 256])\n",
      "torch.Size([64, 3, 256, 256])\n",
      "torch.Size([64, 3, 256, 256])\n",
      "torch.Size([64, 3, 256, 256])\n",
      "torch.Size([64, 3, 256, 256])\n",
      "torch.Size([64, 3, 256, 256])\n",
      "torch.Size([64, 3, 256, 256])\n",
      "torch.Size([64, 3, 256, 256])\n",
      "torch.Size([64, 3, 256, 256])\n",
      "torch.Size([64, 3, 256, 256])\n",
      "torch.Size([64, 3, 256, 256])\n",
      "torch.Size([64, 3, 256, 256])\n",
      "torch.Size([64, 3, 256, 256])\n",
      "torch.Size([64, 3, 256, 256])\n",
      "torch.Size([64, 3, 256, 256])\n",
      "torch.Size([64, 3, 256, 256])\n"
     ]
    },
    {
     "name": "stderr",
     "output_type": "stream",
     "text": [
      "100%|██████████| 10/10 [01:46<00:00, 10.64s/it]"
     ]
    },
    {
     "name": "stdout",
     "output_type": "stream",
     "text": [
      "[INFO] EPOCH: 10/10\n",
      "Train loss: 0.000844, Val loss: 0.0013\n",
      "[INFO] total time taken to train the model: 106.37s\n"
     ]
    },
    {
     "name": "stderr",
     "output_type": "stream",
     "text": [
      "\n"
     ]
    }
   ],
   "source": [
    "# loop over epochs\n",
    "print(\"[INFO] training the network...\")\n",
    "startTime = time.time()\n",
    "for e in tqdm(range(NUM_EPOCHS)):\n",
    "\t# set the model in training mode\n",
    "\tunet.train()\n",
    "\t# initialize the total training and validation loss\n",
    "\ttotalTrainLoss = 0\n",
    "\ttotalValLoss = 0\n",
    "\n",
    "\t# loop over the training set\n",
    "\tfor (i, (x, y)) in enumerate(trainLoader):\n",
    "\t\t# send the input to the device\n",
    "\t\t(x, y) = (x.to(DEVICE), y.to(DEVICE))\n",
    "\t\t# perform a forward pass and calculate the training loss\n",
    "\t\tprint(x.shape)\n",
    "\t\tpred = unet(x)\n",
    "\t\ty = y[:,:1]\n",
    "\t\tloss = lossFunc(pred, y)\n",
    "\t\t# first, zero out any previously accumulated gradients, then\n",
    "\t\t# perform backpropagation, and then update model parameters\n",
    "\t\topt.zero_grad()\n",
    "\t\tloss.backward()\n",
    "\t\topt.step()\n",
    "\t\t# add the loss to the total training loss so far\n",
    "\t\ttotalTrainLoss += loss\n",
    "    \n",
    "\t# switch off autograd\n",
    "\twith torch.no_grad():\n",
    "\t\t# set the model in evaluation mode\n",
    "\t\tunet.eval()\n",
    "\t\t# loop over the validation set\n",
    "\t\tfor (x, y) in valLoader:\n",
    "\t\t\t# send the input to the device\n",
    "\t\t\t(x, y) = (x.to(DEVICE), y.to(DEVICE))\n",
    "\t\t\t# make the predictions and calculate the validation loss\n",
    "\t\t\tpred = unet(x)\n",
    "\t\t\ty = y[:,:1]\n",
    "\t\t\ttotalValLoss += lossFunc(pred, y)\n",
    "\n",
    "\t# calculate the average training and validation loss\n",
    "\tavgTrainLoss = totalTrainLoss / trainSteps\n",
    "\tavgValLoss = totalValLoss / valSteps\n",
    "\t# update our training history\n",
    "\tH[\"train_loss\"].append(avgTrainLoss.cpu().detach().numpy())\n",
    "\tH[\"val_loss\"].append(avgValLoss.cpu().detach().numpy())\n",
    "\t# print the model training and validation information\n",
    "\tprint(\"[INFO] EPOCH: {}/{}\".format(e + 1, NUM_EPOCHS))\n",
    "\tprint(\"Train loss: {:.6f}, Val loss: {:.4f}\".format(\n",
    "\t\tavgTrainLoss, avgValLoss))\n",
    "\n",
    "# display the total time needed to perform the training\n",
    "endTime = time.time()\n",
    "print(\"[INFO] total time taken to train the model: {:.2f}s\".format(\n",
    "\tendTime - startTime))"
   ]
  },
  {
   "cell_type": "code",
   "execution_count": 18,
   "metadata": {},
   "outputs": [
    {
     "data": {
      "image/png": "[encoded data removed]",
      "text/plain": [
       "<Figure size 432x288 with 1 Axes>"
      ]
     },
     "metadata": {},
     "output_type": "display_data"
    }
   ],
   "source": [
    "# plot the training loss\n",
    "plt.style.use(\"ggplot\")\n",
    "plt.figure()\n",
    "plt.plot(H[\"train_loss\"], label=\"train_loss\")\n",
    "plt.plot(H[\"val_loss\"], label=\"val_loss\")\n",
    "plt.title(\"Training Loss on Dataset\")\n",
    "plt.xlabel(\"Epoch #\")\n",
    "plt.ylabel(\"Loss\")\n",
    "plt.legend(loc=\"lower left\")\n",
    "plt.savefig(PLOT_PATH)\n",
    "# serialize the model to disk\n",
    "torch.save(unet, MODEL_PATH)"
   ]
  },
  {
   "cell_type": "markdown",
   "metadata": {},
   "source": [
    "## Testing"
   ]
  },
  {
   "cell_type": "code",
   "execution_count": 24,
   "metadata": {},
   "outputs": [
    {
     "name": "stdout",
     "output_type": "stream",
     "text": [
      "83c1a647fece3c47e101b9e53b1fff0a\n",
      "(25856, 12288)\n",
      "(256, 256, 3)\n",
      "(1, 3, 256, 256)\n"
     ]
    },
    {
     "ename": "RuntimeError",
     "evalue": "Input type (torch.cuda.ByteTensor) and weight type (torch.cuda.FloatTensor) should be the same",
     "output_type": "error",
     "traceback": [
      "\u001b[0;31m---------------------------------------------------------------------------\u001b[0m",
      "\u001b[0;31mRuntimeError\u001b[0m                              Traceback (most recent call last)",
      "\u001b[1;32m/home/danylenko/auto_gleason/main.ipynb Cell 24'\u001b[0m in \u001b[0;36m<cell line: 26>\u001b[0;34m()\u001b[0m\n\u001b[1;32m     <a href='vscode-notebook-cell://ssh-remote%2Bgpu/home/danylenko/auto_gleason/main.ipynb#ch0000024vscode-remote?line=31'>32</a>\u001b[0m \u001b[39mprint\u001b[39m(test_patch\u001b[39m.\u001b[39mshape)\n\u001b[1;32m     <a href='vscode-notebook-cell://ssh-remote%2Bgpu/home/danylenko/auto_gleason/main.ipynb#ch0000024vscode-remote?line=32'>33</a>\u001b[0m test_patch \u001b[39m=\u001b[39m torch\u001b[39m.\u001b[39mfrom_numpy(test_patch)\u001b[39m.\u001b[39mto(DEVICE)\n\u001b[0;32m---> <a href='vscode-notebook-cell://ssh-remote%2Bgpu/home/danylenko/auto_gleason/main.ipynb#ch0000024vscode-remote?line=33'>34</a>\u001b[0m predMask \u001b[39m=\u001b[39m unet(test_patch)\u001b[39m.\u001b[39msqueeze()\n\u001b[1;32m     <a href='vscode-notebook-cell://ssh-remote%2Bgpu/home/danylenko/auto_gleason/main.ipynb#ch0000024vscode-remote?line=34'>35</a>\u001b[0m predMask \u001b[39m=\u001b[39m torch\u001b[39m.\u001b[39msigmoid(predMask)\n\u001b[1;32m     <a href='vscode-notebook-cell://ssh-remote%2Bgpu/home/danylenko/auto_gleason/main.ipynb#ch0000024vscode-remote?line=35'>36</a>\u001b[0m predMask \u001b[39m=\u001b[39m predMask\u001b[39m.\u001b[39mcpu()\u001b[39m.\u001b[39mnumpy()\n",
      "File \u001b[0;32m~/auto_gleason/env/lib/python3.8/site-packages/torch/nn/modules/module.py:1110\u001b[0m, in \u001b[0;36mModule._call_impl\u001b[0;34m(self, *input, **kwargs)\u001b[0m\n\u001b[1;32m   1106\u001b[0m \u001b[39m# If we don't have any hooks, we want to skip the rest of the logic in\u001b[39;00m\n\u001b[1;32m   1107\u001b[0m \u001b[39m# this function, and just call forward.\u001b[39;00m\n\u001b[1;32m   1108\u001b[0m \u001b[39mif\u001b[39;00m \u001b[39mnot\u001b[39;00m (\u001b[39mself\u001b[39m\u001b[39m.\u001b[39m_backward_hooks \u001b[39mor\u001b[39;00m \u001b[39mself\u001b[39m\u001b[39m.\u001b[39m_forward_hooks \u001b[39mor\u001b[39;00m \u001b[39mself\u001b[39m\u001b[39m.\u001b[39m_forward_pre_hooks \u001b[39mor\u001b[39;00m _global_backward_hooks\n\u001b[1;32m   1109\u001b[0m         \u001b[39mor\u001b[39;00m _global_forward_hooks \u001b[39mor\u001b[39;00m _global_forward_pre_hooks):\n\u001b[0;32m-> 1110\u001b[0m     \u001b[39mreturn\u001b[39;00m forward_call(\u001b[39m*\u001b[39;49m\u001b[39minput\u001b[39;49m, \u001b[39m*\u001b[39;49m\u001b[39m*\u001b[39;49mkwargs)\n\u001b[1;32m   1111\u001b[0m \u001b[39m# Do not call functions when jit is used\u001b[39;00m\n\u001b[1;32m   1112\u001b[0m full_backward_hooks, non_full_backward_hooks \u001b[39m=\u001b[39m [], []\n",
      "\u001b[1;32m/home/danylenko/auto_gleason/main.ipynb Cell 15'\u001b[0m in \u001b[0;36mUNet.forward\u001b[0;34m(self, x)\u001b[0m\n\u001b[1;32m     <a href='vscode-notebook-cell://ssh-remote%2Bgpu/home/danylenko/auto_gleason/main.ipynb#ch0000014vscode-remote?line=87'>88</a>\u001b[0m \u001b[39mdef\u001b[39;00m \u001b[39mforward\u001b[39m(\u001b[39mself\u001b[39m, x):\n\u001b[1;32m     <a href='vscode-notebook-cell://ssh-remote%2Bgpu/home/danylenko/auto_gleason/main.ipynb#ch0000014vscode-remote?line=88'>89</a>\u001b[0m \t\u001b[39m# grab the features from the encoder\u001b[39;00m\n\u001b[0;32m---> <a href='vscode-notebook-cell://ssh-remote%2Bgpu/home/danylenko/auto_gleason/main.ipynb#ch0000014vscode-remote?line=89'>90</a>\u001b[0m \tencFeatures \u001b[39m=\u001b[39m \u001b[39mself\u001b[39;49m\u001b[39m.\u001b[39;49mencoder(x)\n\u001b[1;32m     <a href='vscode-notebook-cell://ssh-remote%2Bgpu/home/danylenko/auto_gleason/main.ipynb#ch0000014vscode-remote?line=90'>91</a>\u001b[0m \t\u001b[39m# pass the encoder features through decoder making sure that\u001b[39;00m\n\u001b[1;32m     <a href='vscode-notebook-cell://ssh-remote%2Bgpu/home/danylenko/auto_gleason/main.ipynb#ch0000014vscode-remote?line=91'>92</a>\u001b[0m \t\u001b[39m# their dimensions are suited for concatenation\u001b[39;00m\n\u001b[1;32m     <a href='vscode-notebook-cell://ssh-remote%2Bgpu/home/danylenko/auto_gleason/main.ipynb#ch0000014vscode-remote?line=92'>93</a>\u001b[0m \tdecFeatures \u001b[39m=\u001b[39m \u001b[39mself\u001b[39m\u001b[39m.\u001b[39mdecoder(encFeatures[::\u001b[39m-\u001b[39m\u001b[39m1\u001b[39m][\u001b[39m0\u001b[39m],\n\u001b[1;32m     <a href='vscode-notebook-cell://ssh-remote%2Bgpu/home/danylenko/auto_gleason/main.ipynb#ch0000014vscode-remote?line=93'>94</a>\u001b[0m \t\tencFeatures[::\u001b[39m-\u001b[39m\u001b[39m1\u001b[39m][\u001b[39m1\u001b[39m:])\n",
      "File \u001b[0;32m~/auto_gleason/env/lib/python3.8/site-packages/torch/nn/modules/module.py:1110\u001b[0m, in \u001b[0;36mModule._call_impl\u001b[0;34m(self, *input, **kwargs)\u001b[0m\n\u001b[1;32m   1106\u001b[0m \u001b[39m# If we don't have any hooks, we want to skip the rest of the logic in\u001b[39;00m\n\u001b[1;32m   1107\u001b[0m \u001b[39m# this function, and just call forward.\u001b[39;00m\n\u001b[1;32m   1108\u001b[0m \u001b[39mif\u001b[39;00m \u001b[39mnot\u001b[39;00m (\u001b[39mself\u001b[39m\u001b[39m.\u001b[39m_backward_hooks \u001b[39mor\u001b[39;00m \u001b[39mself\u001b[39m\u001b[39m.\u001b[39m_forward_hooks \u001b[39mor\u001b[39;00m \u001b[39mself\u001b[39m\u001b[39m.\u001b[39m_forward_pre_hooks \u001b[39mor\u001b[39;00m _global_backward_hooks\n\u001b[1;32m   1109\u001b[0m         \u001b[39mor\u001b[39;00m _global_forward_hooks \u001b[39mor\u001b[39;00m _global_forward_pre_hooks):\n\u001b[0;32m-> 1110\u001b[0m     \u001b[39mreturn\u001b[39;00m forward_call(\u001b[39m*\u001b[39;49m\u001b[39minput\u001b[39;49m, \u001b[39m*\u001b[39;49m\u001b[39m*\u001b[39;49mkwargs)\n\u001b[1;32m   1111\u001b[0m \u001b[39m# Do not call functions when jit is used\u001b[39;00m\n\u001b[1;32m   1112\u001b[0m full_backward_hooks, non_full_backward_hooks \u001b[39m=\u001b[39m [], []\n",
      "\u001b[1;32m/home/danylenko/auto_gleason/main.ipynb Cell 15'\u001b[0m in \u001b[0;36mEncoder.forward\u001b[0;34m(self, x)\u001b[0m\n\u001b[1;32m     <a href='vscode-notebook-cell://ssh-remote%2Bgpu/home/danylenko/auto_gleason/main.ipynb#ch0000014vscode-remote?line=24'>25</a>\u001b[0m \u001b[39m# loop through the encoder blocks\u001b[39;00m\n\u001b[1;32m     <a href='vscode-notebook-cell://ssh-remote%2Bgpu/home/danylenko/auto_gleason/main.ipynb#ch0000014vscode-remote?line=25'>26</a>\u001b[0m \u001b[39mfor\u001b[39;00m block \u001b[39min\u001b[39;00m \u001b[39mself\u001b[39m\u001b[39m.\u001b[39mencBlocks:\n\u001b[1;32m     <a href='vscode-notebook-cell://ssh-remote%2Bgpu/home/danylenko/auto_gleason/main.ipynb#ch0000014vscode-remote?line=26'>27</a>\u001b[0m \t\u001b[39m# pass the inputs through the current encoder block, store\u001b[39;00m\n\u001b[1;32m     <a href='vscode-notebook-cell://ssh-remote%2Bgpu/home/danylenko/auto_gleason/main.ipynb#ch0000014vscode-remote?line=27'>28</a>\u001b[0m \t\u001b[39m# the outputs, and then apply maxpooling on the output\u001b[39;00m\n\u001b[0;32m---> <a href='vscode-notebook-cell://ssh-remote%2Bgpu/home/danylenko/auto_gleason/main.ipynb#ch0000014vscode-remote?line=28'>29</a>\u001b[0m \tx \u001b[39m=\u001b[39m block(x)\n\u001b[1;32m     <a href='vscode-notebook-cell://ssh-remote%2Bgpu/home/danylenko/auto_gleason/main.ipynb#ch0000014vscode-remote?line=29'>30</a>\u001b[0m \tblockOutputs\u001b[39m.\u001b[39mappend(x)\n\u001b[1;32m     <a href='vscode-notebook-cell://ssh-remote%2Bgpu/home/danylenko/auto_gleason/main.ipynb#ch0000014vscode-remote?line=30'>31</a>\u001b[0m \tx \u001b[39m=\u001b[39m \u001b[39mself\u001b[39m\u001b[39m.\u001b[39mpool(x)\n",
      "File \u001b[0;32m~/auto_gleason/env/lib/python3.8/site-packages/torch/nn/modules/module.py:1110\u001b[0m, in \u001b[0;36mModule._call_impl\u001b[0;34m(self, *input, **kwargs)\u001b[0m\n\u001b[1;32m   1106\u001b[0m \u001b[39m# If we don't have any hooks, we want to skip the rest of the logic in\u001b[39;00m\n\u001b[1;32m   1107\u001b[0m \u001b[39m# this function, and just call forward.\u001b[39;00m\n\u001b[1;32m   1108\u001b[0m \u001b[39mif\u001b[39;00m \u001b[39mnot\u001b[39;00m (\u001b[39mself\u001b[39m\u001b[39m.\u001b[39m_backward_hooks \u001b[39mor\u001b[39;00m \u001b[39mself\u001b[39m\u001b[39m.\u001b[39m_forward_hooks \u001b[39mor\u001b[39;00m \u001b[39mself\u001b[39m\u001b[39m.\u001b[39m_forward_pre_hooks \u001b[39mor\u001b[39;00m _global_backward_hooks\n\u001b[1;32m   1109\u001b[0m         \u001b[39mor\u001b[39;00m _global_forward_hooks \u001b[39mor\u001b[39;00m _global_forward_pre_hooks):\n\u001b[0;32m-> 1110\u001b[0m     \u001b[39mreturn\u001b[39;00m forward_call(\u001b[39m*\u001b[39;49m\u001b[39minput\u001b[39;49m, \u001b[39m*\u001b[39;49m\u001b[39m*\u001b[39;49mkwargs)\n\u001b[1;32m   1111\u001b[0m \u001b[39m# Do not call functions when jit is used\u001b[39;00m\n\u001b[1;32m   1112\u001b[0m full_backward_hooks, non_full_backward_hooks \u001b[39m=\u001b[39m [], []\n",
      "\u001b[1;32m/home/danylenko/auto_gleason/main.ipynb Cell 15'\u001b[0m in \u001b[0;36mBlock.forward\u001b[0;34m(self, x)\u001b[0m\n\u001b[1;32m      <a href='vscode-notebook-cell://ssh-remote%2Bgpu/home/danylenko/auto_gleason/main.ipynb#ch0000014vscode-remote?line=8'>9</a>\u001b[0m \u001b[39mdef\u001b[39;00m \u001b[39mforward\u001b[39m(\u001b[39mself\u001b[39m, x):\n\u001b[1;32m     <a href='vscode-notebook-cell://ssh-remote%2Bgpu/home/danylenko/auto_gleason/main.ipynb#ch0000014vscode-remote?line=9'>10</a>\u001b[0m \t\u001b[39m# apply CONV => RELU => CONV block to the inputs and return it\u001b[39;00m\n\u001b[0;32m---> <a href='vscode-notebook-cell://ssh-remote%2Bgpu/home/danylenko/auto_gleason/main.ipynb#ch0000014vscode-remote?line=10'>11</a>\u001b[0m \t\u001b[39mreturn\u001b[39;00m \u001b[39mself\u001b[39m\u001b[39m.\u001b[39mconv2(\u001b[39mself\u001b[39m\u001b[39m.\u001b[39mrelu(\u001b[39mself\u001b[39;49m\u001b[39m.\u001b[39;49mconv1(x)))\n",
      "File \u001b[0;32m~/auto_gleason/env/lib/python3.8/site-packages/torch/nn/modules/module.py:1110\u001b[0m, in \u001b[0;36mModule._call_impl\u001b[0;34m(self, *input, **kwargs)\u001b[0m\n\u001b[1;32m   1106\u001b[0m \u001b[39m# If we don't have any hooks, we want to skip the rest of the logic in\u001b[39;00m\n\u001b[1;32m   1107\u001b[0m \u001b[39m# this function, and just call forward.\u001b[39;00m\n\u001b[1;32m   1108\u001b[0m \u001b[39mif\u001b[39;00m \u001b[39mnot\u001b[39;00m (\u001b[39mself\u001b[39m\u001b[39m.\u001b[39m_backward_hooks \u001b[39mor\u001b[39;00m \u001b[39mself\u001b[39m\u001b[39m.\u001b[39m_forward_hooks \u001b[39mor\u001b[39;00m \u001b[39mself\u001b[39m\u001b[39m.\u001b[39m_forward_pre_hooks \u001b[39mor\u001b[39;00m _global_backward_hooks\n\u001b[1;32m   1109\u001b[0m         \u001b[39mor\u001b[39;00m _global_forward_hooks \u001b[39mor\u001b[39;00m _global_forward_pre_hooks):\n\u001b[0;32m-> 1110\u001b[0m     \u001b[39mreturn\u001b[39;00m forward_call(\u001b[39m*\u001b[39;49m\u001b[39minput\u001b[39;49m, \u001b[39m*\u001b[39;49m\u001b[39m*\u001b[39;49mkwargs)\n\u001b[1;32m   1111\u001b[0m \u001b[39m# Do not call functions when jit is used\u001b[39;00m\n\u001b[1;32m   1112\u001b[0m full_backward_hooks, non_full_backward_hooks \u001b[39m=\u001b[39m [], []\n",
      "File \u001b[0;32m~/auto_gleason/env/lib/python3.8/site-packages/torch/nn/modules/conv.py:447\u001b[0m, in \u001b[0;36mConv2d.forward\u001b[0;34m(self, input)\u001b[0m\n\u001b[1;32m    446\u001b[0m \u001b[39mdef\u001b[39;00m \u001b[39mforward\u001b[39m(\u001b[39mself\u001b[39m, \u001b[39minput\u001b[39m: Tensor) \u001b[39m-\u001b[39m\u001b[39m>\u001b[39m Tensor:\n\u001b[0;32m--> 447\u001b[0m     \u001b[39mreturn\u001b[39;00m \u001b[39mself\u001b[39;49m\u001b[39m.\u001b[39;49m_conv_forward(\u001b[39minput\u001b[39;49m, \u001b[39mself\u001b[39;49m\u001b[39m.\u001b[39;49mweight, \u001b[39mself\u001b[39;49m\u001b[39m.\u001b[39;49mbias)\n",
      "File \u001b[0;32m~/auto_gleason/env/lib/python3.8/site-packages/torch/nn/modules/conv.py:443\u001b[0m, in \u001b[0;36mConv2d._conv_forward\u001b[0;34m(self, input, weight, bias)\u001b[0m\n\u001b[1;32m    439\u001b[0m \u001b[39mif\u001b[39;00m \u001b[39mself\u001b[39m\u001b[39m.\u001b[39mpadding_mode \u001b[39m!=\u001b[39m \u001b[39m'\u001b[39m\u001b[39mzeros\u001b[39m\u001b[39m'\u001b[39m:\n\u001b[1;32m    440\u001b[0m     \u001b[39mreturn\u001b[39;00m F\u001b[39m.\u001b[39mconv2d(F\u001b[39m.\u001b[39mpad(\u001b[39minput\u001b[39m, \u001b[39mself\u001b[39m\u001b[39m.\u001b[39m_reversed_padding_repeated_twice, mode\u001b[39m=\u001b[39m\u001b[39mself\u001b[39m\u001b[39m.\u001b[39mpadding_mode),\n\u001b[1;32m    441\u001b[0m                     weight, bias, \u001b[39mself\u001b[39m\u001b[39m.\u001b[39mstride,\n\u001b[1;32m    442\u001b[0m                     _pair(\u001b[39m0\u001b[39m), \u001b[39mself\u001b[39m\u001b[39m.\u001b[39mdilation, \u001b[39mself\u001b[39m\u001b[39m.\u001b[39mgroups)\n\u001b[0;32m--> 443\u001b[0m \u001b[39mreturn\u001b[39;00m F\u001b[39m.\u001b[39;49mconv2d(\u001b[39minput\u001b[39;49m, weight, bias, \u001b[39mself\u001b[39;49m\u001b[39m.\u001b[39;49mstride,\n\u001b[1;32m    444\u001b[0m                 \u001b[39mself\u001b[39;49m\u001b[39m.\u001b[39;49mpadding, \u001b[39mself\u001b[39;49m\u001b[39m.\u001b[39;49mdilation, \u001b[39mself\u001b[39;49m\u001b[39m.\u001b[39;49mgroups)\n",
      "\u001b[0;31mRuntimeError\u001b[0m: Input type (torch.cuda.ByteTensor) and weight type (torch.cuda.FloatTensor) should be the same"
     ]
    },
    {
     "data": {
      "image/png": "[encoded data removed]",
      "text/plain": [
       "<Figure size 720x720 with 4 Axes>"
      ]
     },
     "metadata": {},
     "output_type": "display_data"
    }
   ],
   "source": [
    "figure, ax = plt.subplots(nrows=1, ncols=4, figsize=(10, 10))\n",
    "cmap = matplotlib.colors.ListedColormap(['black', 'gray', 'green', 'yellow', 'orange', 'red'])\n",
    "\n",
    "test_img_name = test_img_names[1]\n",
    "print(test_img_name)\n",
    "\n",
    "test_slide_path = os.path.join(data_dir, f'{test_img_name}.tiff')\n",
    "test_slide = openslide.OpenSlide(test_slide_path)\n",
    "test_slide_size = test_slide.dimensions\n",
    "print(test_slide_size)\n",
    "thumbnail = test_slide.get_thumbnail((test_slide_size[0]/PATCH_WIDTH, test_slide_size[1]/PATCH_HEIGHT)).convert('RGB')\n",
    "ax[0].imshow(thumbnail)\n",
    "\n",
    "test_coords = [57*PATCH_WIDTH,28*PATCH_HEIGHT]\n",
    "test_patch = test_slide.read_region(test_coords, size=(PATCH_WIDTH, PATCH_HEIGHT), level=0).convert('RGB')\n",
    "test_patch = np.asarray(test_patch, dtype=np.uint8)\n",
    "ax[1].imshow(test_patch)\n",
    "\n",
    "test_mask_path = os.path.join(mask_dir, f'{test_img_name}_mask.tiff')\n",
    "test_mask = openslide.OpenSlide(test_mask_path)\n",
    "test_mask_patch = test_mask.read_region(test_coords, size=(PATCH_WIDTH, PATCH_HEIGHT), level=0).convert('RGB')\n",
    "test_mask_patch = np.asarray(test_mask_patch, dtype=np.uint8)\n",
    "ax[2].imshow(test_mask_patch[:,:,0], cmap=cmap, interpolation='nearest', vmin=0, vmax=5)\n",
    "\n",
    "unet.eval()\n",
    "with torch.no_grad():\n",
    "    transformations = transforms.Compose([transforms.ToTensor()])\n",
    "    print(test_patch.shape)\n",
    "    test_patch = np.transpose(test_patch, (2,0,1))\n",
    "    test_patch = np.expand_dims(test_patch, 0)\n",
    "    # test_patch = transformations(test_patch)\n",
    "    print(test_patch.shape)\n",
    "    test_patch = torch.from_numpy(test_patch).to(DEVICE)\n",
    "    predMask = unet(test_patch).squeeze()\n",
    "    predMask = torch.sigmoid(predMask)\n",
    "    predMask = predMask.cpu().numpy()\n",
    "    ax[3].imshow(predMask[:,:,0], cmap=cmap, interpolation='nearest', vmin=0, vmax=5)\n",
    "\n",
    "figure.tight_layout()\n",
    "plt.show()\n"
   ]
  }
 ],
 "metadata": {
  "kernelspec": {
   "display_name": "Python 3.8.10 ('env': venv)",
   "language": "python",
   "name": "python3"
  },
  "language_info": {
   "codemirror_mode": {
    "name": "ipython",
    "version": 3
   },
   "file_extension": ".py",
   "mimetype": "text/x-python",
   "name": "python",
   "nbconvert_exporter": "python",
   "pygments_lexer": "ipython3",
   "version": "3.8.10"
  },
  "orig_nbformat": 4,
  "vscode": {
   "interpreter": {
    "hash": "de4631684bd2c882b6b797b2a828f7be340f598e9083880a321a8ea7c6fac874"
   }
  }
 },
 "nbformat": 4,
 "nbformat_minor": 2
}
