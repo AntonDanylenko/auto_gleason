{
 "cells": [
  {
   "cell_type": "markdown",
   "metadata": {},
   "source": [
    "# Automated Gleason Grading"
   ]
  },
  {
   "cell_type": "code",
   "execution_count": 1,
   "metadata": {},
   "outputs": [],
   "source": [
    "from lib.load import *\n",
    "from lib.training import *\n",
    "from lib.testing import *"
   ]
  },
  {
   "cell_type": "code",
   "execution_count": 2,
   "metadata": {},
   "outputs": [],
   "source": [
    "all_train_img_names, test_img_names = load()"
   ]
  },
  {
   "cell_type": "code",
   "execution_count": 3,
   "metadata": {},
   "outputs": [
    {
     "name": "stderr",
     "output_type": "stream",
     "text": [
      "Make Slide Dict: 100%|██████████| 4386/4386 [00:03<00:00, 1159.31it/s]\n",
      "Make Slide Dict: 100%|██████████| 774/774 [00:00<00:00, 1137.17it/s]\n"
     ]
    },
    {
     "name": "stdout",
     "output_type": "stream",
     "text": [
      "[INFO] found 1024 samples in the training set...\n",
      "[INFO] found 1024 samples in the validation set...\n",
      "[INFO] training the network...\n"
     ]
    },
    {
     "name": "stderr",
     "output_type": "stream",
     "text": [
      "  2%|▏         | 1/50 [00:43<35:22, 43.32s/it]"
     ]
    },
    {
     "name": "stdout",
     "output_type": "stream",
     "text": [
      "[INFO] EPOCH: 1/50\n",
      "Train loss: 0.628077, Val loss: 0.5418\n",
      "Val metric for class 0: 0.000000\n",
      "Val metric for class 1: 0.704489\n",
      "Val metric for class 2: 0.000000\n",
      "Val metric for class 3: 0.000000\n",
      "Val metric for class 4: 0.000000\n",
      "Val metric for class 5: 0.000000\n"
     ]
    },
    {
     "name": "stderr",
     "output_type": "stream",
     "text": [
      "  4%|▍         | 2/50 [01:27<35:16, 44.10s/it]"
     ]
    },
    {
     "name": "stdout",
     "output_type": "stream",
     "text": [
      "[INFO] EPOCH: 2/50\n",
      "Train loss: 0.535055, Val loss: 0.5371\n",
      "Val metric for class 0: 0.000000\n",
      "Val metric for class 1: 0.704489\n",
      "Val metric for class 2: 0.000000\n",
      "Val metric for class 3: 0.000000\n",
      "Val metric for class 4: 0.000000\n",
      "Val metric for class 5: 0.000000\n"
     ]
    },
    {
     "name": "stderr",
     "output_type": "stream",
     "text": [
      "  6%|▌         | 3/50 [02:11<34:14, 43.72s/it]"
     ]
    },
    {
     "name": "stdout",
     "output_type": "stream",
     "text": [
      "[INFO] EPOCH: 3/50\n",
      "Train loss: 0.531396, Val loss: 0.5379\n",
      "Val metric for class 0: 0.000000\n",
      "Val metric for class 1: 0.704489\n",
      "Val metric for class 2: 0.000000\n",
      "Val metric for class 3: 0.000000\n",
      "Val metric for class 4: 0.000000\n",
      "Val metric for class 5: 0.000000\n"
     ]
    },
    {
     "name": "stderr",
     "output_type": "stream",
     "text": [
      "  8%|▊         | 4/50 [02:54<33:31, 43.73s/it]"
     ]
    },
    {
     "name": "stdout",
     "output_type": "stream",
     "text": [
      "[INFO] EPOCH: 4/50\n",
      "Train loss: 0.528296, Val loss: 0.5333\n",
      "Val metric for class 0: 0.000000\n",
      "Val metric for class 1: 0.704489\n",
      "Val metric for class 2: 0.000000\n",
      "Val metric for class 3: 0.000000\n",
      "Val metric for class 4: 0.000000\n",
      "Val metric for class 5: 0.000000\n"
     ]
    },
    {
     "name": "stderr",
     "output_type": "stream",
     "text": [
      " 10%|█         | 5/50 [03:39<32:58, 43.96s/it]"
     ]
    },
    {
     "name": "stdout",
     "output_type": "stream",
     "text": [
      "[INFO] EPOCH: 5/50\n",
      "Train loss: 0.525892, Val loss: 0.5317\n",
      "Val metric for class 0: 0.000000\n",
      "Val metric for class 1: 0.704489\n",
      "Val metric for class 2: 0.000000\n",
      "Val metric for class 3: 0.000000\n",
      "Val metric for class 4: 0.000000\n",
      "Val metric for class 5: 0.000000\n"
     ]
    },
    {
     "name": "stderr",
     "output_type": "stream",
     "text": [
      " 12%|█▏        | 6/50 [04:24<32:38, 44.51s/it]"
     ]
    },
    {
     "name": "stdout",
     "output_type": "stream",
     "text": [
      "[INFO] EPOCH: 6/50\n",
      "Train loss: 0.523340, Val loss: 0.5235\n",
      "Val metric for class 0: 0.000000\n",
      "Val metric for class 1: 0.704489\n",
      "Val metric for class 2: 0.000000\n",
      "Val metric for class 3: 0.000000\n",
      "Val metric for class 4: 0.000000\n",
      "Val metric for class 5: 0.000000\n"
     ]
    },
    {
     "name": "stderr",
     "output_type": "stream",
     "text": [
      " 14%|█▍        | 7/50 [05:11<32:27, 45.29s/it]"
     ]
    },
    {
     "name": "stdout",
     "output_type": "stream",
     "text": [
      "[INFO] EPOCH: 7/50\n",
      "Train loss: 0.514612, Val loss: 0.5213\n",
      "Val metric for class 0: 0.000000\n",
      "Val metric for class 1: 0.704489\n",
      "Val metric for class 2: 0.000000\n",
      "Val metric for class 3: 0.000000\n",
      "Val metric for class 4: 0.000000\n",
      "Val metric for class 5: 0.000000\n"
     ]
    },
    {
     "name": "stderr",
     "output_type": "stream",
     "text": [
      " 16%|█▌        | 8/50 [05:55<31:15, 44.67s/it]"
     ]
    },
    {
     "name": "stdout",
     "output_type": "stream",
     "text": [
      "[INFO] EPOCH: 8/50\n",
      "Train loss: 0.504884, Val loss: 0.4851\n",
      "Val metric for class 0: 0.000000\n",
      "Val metric for class 1: 0.715536\n",
      "Val metric for class 2: 0.000000\n",
      "Val metric for class 3: 0.000000\n",
      "Val metric for class 4: 0.217587\n",
      "Val metric for class 5: 0.000000\n"
     ]
    },
    {
     "name": "stderr",
     "output_type": "stream",
     "text": [
      " 18%|█▊        | 9/50 [06:43<31:22, 45.92s/it]"
     ]
    },
    {
     "name": "stdout",
     "output_type": "stream",
     "text": [
      "[INFO] EPOCH: 9/50\n",
      "Train loss: 0.482229, Val loss: 0.4889\n",
      "Val metric for class 0: 0.000000\n",
      "Val metric for class 1: 0.729054\n",
      "Val metric for class 2: 0.000000\n",
      "Val metric for class 3: 0.000000\n",
      "Val metric for class 4: 0.432617\n",
      "Val metric for class 5: 0.000000\n"
     ]
    },
    {
     "name": "stderr",
     "output_type": "stream",
     "text": [
      " 20%|██        | 10/50 [07:26<29:57, 44.95s/it]"
     ]
    },
    {
     "name": "stdout",
     "output_type": "stream",
     "text": [
      "[INFO] EPOCH: 10/50\n",
      "Train loss: 0.479821, Val loss: 0.4751\n",
      "Val metric for class 0: 0.000000\n",
      "Val metric for class 1: 0.729741\n",
      "Val metric for class 2: 0.000000\n",
      "Val metric for class 3: 0.000000\n",
      "Val metric for class 4: 0.277595\n",
      "Val metric for class 5: 0.000000\n"
     ]
    },
    {
     "name": "stderr",
     "output_type": "stream",
     "text": [
      " 22%|██▏       | 11/50 [08:18<30:30, 46.93s/it]"
     ]
    },
    {
     "name": "stdout",
     "output_type": "stream",
     "text": [
      "[INFO] EPOCH: 11/50\n",
      "Train loss: 0.469487, Val loss: 0.4650\n",
      "Val metric for class 0: 0.000000\n",
      "Val metric for class 1: 0.727083\n",
      "Val metric for class 2: 0.000000\n",
      "Val metric for class 3: 0.000000\n",
      "Val metric for class 4: 0.235892\n",
      "Val metric for class 5: 0.000000\n"
     ]
    },
    {
     "name": "stderr",
     "output_type": "stream",
     "text": [
      " 24%|██▍       | 12/50 [09:00<28:50, 45.55s/it]"
     ]
    },
    {
     "name": "stdout",
     "output_type": "stream",
     "text": [
      "[INFO] EPOCH: 12/50\n",
      "Train loss: 0.457739, Val loss: 0.4552\n",
      "Val metric for class 0: 0.000000\n",
      "Val metric for class 1: 0.759421\n",
      "Val metric for class 2: 0.000000\n",
      "Val metric for class 3: 0.000000\n",
      "Val metric for class 4: 0.550163\n",
      "Val metric for class 5: 0.000000\n"
     ]
    },
    {
     "name": "stderr",
     "output_type": "stream",
     "text": [
      " 26%|██▌       | 13/50 [09:52<29:22, 47.65s/it]"
     ]
    },
    {
     "name": "stdout",
     "output_type": "stream",
     "text": [
      "[INFO] EPOCH: 13/50\n",
      "Train loss: 0.452626, Val loss: 0.4644\n",
      "Val metric for class 0: 0.000000\n",
      "Val metric for class 1: 0.767665\n",
      "Val metric for class 2: 0.000151\n",
      "Val metric for class 3: 0.000000\n",
      "Val metric for class 4: 0.597203\n",
      "Val metric for class 5: 0.000000\n"
     ]
    },
    {
     "name": "stderr",
     "output_type": "stream",
     "text": [
      " 28%|██▊       | 14/50 [10:34<27:30, 45.85s/it]"
     ]
    },
    {
     "name": "stdout",
     "output_type": "stream",
     "text": [
      "[INFO] EPOCH: 14/50\n",
      "Train loss: 0.464092, Val loss: 0.4625\n",
      "Val metric for class 0: 0.000000\n",
      "Val metric for class 1: 0.762391\n",
      "Val metric for class 2: 0.000000\n",
      "Val metric for class 3: 0.000000\n",
      "Val metric for class 4: 0.565465\n",
      "Val metric for class 5: 0.000000\n"
     ]
    },
    {
     "name": "stderr",
     "output_type": "stream",
     "text": [
      " 30%|███       | 15/50 [11:17<26:12, 44.91s/it]"
     ]
    },
    {
     "name": "stdout",
     "output_type": "stream",
     "text": [
      "[INFO] EPOCH: 15/50\n",
      "Train loss: 0.450733, Val loss: 0.4542\n",
      "Val metric for class 0: 0.000000\n",
      "Val metric for class 1: 0.765977\n",
      "Val metric for class 2: 0.000000\n",
      "Val metric for class 3: 0.000000\n",
      "Val metric for class 4: 0.607563\n",
      "Val metric for class 5: 0.000000\n"
     ]
    },
    {
     "name": "stderr",
     "output_type": "stream",
     "text": [
      " 32%|███▏      | 16/50 [12:13<27:22, 48.31s/it]"
     ]
    },
    {
     "name": "stdout",
     "output_type": "stream",
     "text": [
      "[INFO] EPOCH: 16/50\n",
      "Train loss: 0.450208, Val loss: 0.4488\n",
      "Val metric for class 0: 0.000000\n",
      "Val metric for class 1: 0.763862\n",
      "Val metric for class 2: 0.000000\n",
      "Val metric for class 3: 0.000000\n",
      "Val metric for class 4: 0.508913\n",
      "Val metric for class 5: 0.000000\n"
     ]
    },
    {
     "name": "stderr",
     "output_type": "stream",
     "text": [
      " 34%|███▍      | 17/50 [12:55<25:32, 46.45s/it]"
     ]
    },
    {
     "name": "stdout",
     "output_type": "stream",
     "text": [
      "[INFO] EPOCH: 17/50\n",
      "Train loss: 0.445414, Val loss: 0.4498\n",
      "Val metric for class 0: 0.000000\n",
      "Val metric for class 1: 0.770724\n",
      "Val metric for class 2: 0.000000\n",
      "Val metric for class 3: 0.000000\n",
      "Val metric for class 4: 0.574830\n",
      "Val metric for class 5: 0.000000\n"
     ]
    },
    {
     "name": "stderr",
     "output_type": "stream",
     "text": [
      " 36%|███▌      | 18/50 [13:37<24:00, 45.03s/it]"
     ]
    },
    {
     "name": "stdout",
     "output_type": "stream",
     "text": [
      "[INFO] EPOCH: 18/50\n",
      "Train loss: 0.445733, Val loss: 0.4635\n",
      "Val metric for class 0: 0.000000\n",
      "Val metric for class 1: 0.753954\n",
      "Val metric for class 2: 0.000441\n",
      "Val metric for class 3: 0.000000\n",
      "Val metric for class 4: 0.416402\n",
      "Val metric for class 5: 0.000000\n"
     ]
    },
    {
     "name": "stderr",
     "output_type": "stream",
     "text": [
      " 38%|███▊      | 19/50 [14:20<23:01, 44.56s/it]"
     ]
    },
    {
     "name": "stdout",
     "output_type": "stream",
     "text": [
      "[INFO] EPOCH: 19/50\n",
      "Train loss: 0.443289, Val loss: 0.4411\n",
      "Val metric for class 0: 0.000000\n",
      "Val metric for class 1: 0.767388\n",
      "Val metric for class 2: 0.000485\n",
      "Val metric for class 3: 0.000000\n",
      "Val metric for class 4: 0.509563\n",
      "Val metric for class 5: 0.000000\n"
     ]
    },
    {
     "name": "stderr",
     "output_type": "stream",
     "text": [
      " 40%|████      | 20/50 [15:24<25:06, 50.22s/it]"
     ]
    },
    {
     "name": "stdout",
     "output_type": "stream",
     "text": [
      "[INFO] EPOCH: 20/50\n",
      "Train loss: 0.437298, Val loss: 0.4439\n",
      "Val metric for class 0: 0.000000\n",
      "Val metric for class 1: 0.769572\n",
      "Val metric for class 2: 0.409597\n",
      "Val metric for class 3: 0.000000\n",
      "Val metric for class 4: 0.229947\n",
      "Val metric for class 5: 0.000000\n"
     ]
    },
    {
     "name": "stderr",
     "output_type": "stream",
     "text": [
      " 42%|████▏     | 21/50 [16:06<23:04, 47.76s/it]"
     ]
    },
    {
     "name": "stdout",
     "output_type": "stream",
     "text": [
      "[INFO] EPOCH: 21/50\n",
      "Train loss: 0.442525, Val loss: 0.4415\n",
      "Val metric for class 0: 0.000000\n",
      "Val metric for class 1: 0.771412\n",
      "Val metric for class 2: 0.000000\n",
      "Val metric for class 3: 0.000000\n",
      "Val metric for class 4: 0.582897\n",
      "Val metric for class 5: 0.000000\n"
     ]
    },
    {
     "name": "stderr",
     "output_type": "stream",
     "text": [
      " 44%|████▍     | 22/50 [16:50<21:46, 46.66s/it]"
     ]
    },
    {
     "name": "stdout",
     "output_type": "stream",
     "text": [
      "[INFO] EPOCH: 22/50\n",
      "Train loss: 0.438868, Val loss: 0.4529\n",
      "Val metric for class 0: 0.000000\n",
      "Val metric for class 1: 0.771868\n",
      "Val metric for class 2: 0.000000\n",
      "Val metric for class 3: 0.000000\n",
      "Val metric for class 4: 0.646185\n",
      "Val metric for class 5: 0.000000\n"
     ]
    },
    {
     "name": "stderr",
     "output_type": "stream",
     "text": [
      " 46%|████▌     | 23/50 [17:34<20:35, 45.78s/it]"
     ]
    },
    {
     "name": "stdout",
     "output_type": "stream",
     "text": [
      "[INFO] EPOCH: 23/50\n",
      "Train loss: 0.441889, Val loss: 0.4433\n",
      "Val metric for class 0: 0.000000\n",
      "Val metric for class 1: 0.741208\n",
      "Val metric for class 2: 0.022627\n",
      "Val metric for class 3: 0.000000\n",
      "Val metric for class 4: 0.292559\n",
      "Val metric for class 5: 0.000000\n"
     ]
    },
    {
     "name": "stderr",
     "output_type": "stream",
     "text": [
      " 48%|████▊     | 24/50 [18:17<19:32, 45.09s/it]"
     ]
    },
    {
     "name": "stdout",
     "output_type": "stream",
     "text": [
      "[INFO] EPOCH: 24/50\n",
      "Train loss: 0.437266, Val loss: 0.4573\n",
      "Val metric for class 0: 0.000000\n",
      "Val metric for class 1: 0.769568\n",
      "Val metric for class 2: 0.055389\n",
      "Val metric for class 3: 0.000000\n",
      "Val metric for class 4: 0.653780\n",
      "Val metric for class 5: 0.000000\n"
     ]
    },
    {
     "name": "stderr",
     "output_type": "stream",
     "text": [
      " 50%|█████     | 25/50 [19:21<21:10, 50.83s/it]"
     ]
    },
    {
     "name": "stdout",
     "output_type": "stream",
     "text": [
      "[INFO] EPOCH: 25/50\n",
      "Train loss: 0.445200, Val loss: 0.4687\n",
      "Val metric for class 0: 0.000000\n",
      "Val metric for class 1: 0.744145\n",
      "Val metric for class 2: 0.020513\n",
      "Val metric for class 3: 0.000000\n",
      "Val metric for class 4: 0.321036\n",
      "Val metric for class 5: 0.000000\n"
     ]
    },
    {
     "name": "stderr",
     "output_type": "stream",
     "text": [
      " 52%|█████▏    | 26/50 [20:04<19:22, 48.46s/it]"
     ]
    },
    {
     "name": "stdout",
     "output_type": "stream",
     "text": [
      "[INFO] EPOCH: 26/50\n",
      "Train loss: 0.440660, Val loss: 0.4386\n",
      "Val metric for class 0: 0.000000\n",
      "Val metric for class 1: 0.780851\n",
      "Val metric for class 2: 0.000000\n",
      "Val metric for class 3: 0.000000\n",
      "Val metric for class 4: 0.609521\n",
      "Val metric for class 5: 0.000000\n"
     ]
    },
    {
     "name": "stderr",
     "output_type": "stream",
     "text": [
      " 54%|█████▍    | 27/50 [20:48<18:04, 47.15s/it]"
     ]
    },
    {
     "name": "stdout",
     "output_type": "stream",
     "text": [
      "[INFO] EPOCH: 27/50\n",
      "Train loss: 0.435226, Val loss: 0.4384\n",
      "Val metric for class 0: 0.000000\n",
      "Val metric for class 1: 0.775159\n",
      "Val metric for class 2: 0.000000\n",
      "Val metric for class 3: 0.000000\n",
      "Val metric for class 4: 0.540501\n",
      "Val metric for class 5: 0.000000\n"
     ]
    },
    {
     "name": "stderr",
     "output_type": "stream",
     "text": [
      " 56%|█████▌    | 28/50 [21:33<16:59, 46.36s/it]"
     ]
    },
    {
     "name": "stdout",
     "output_type": "stream",
     "text": [
      "[INFO] EPOCH: 28/50\n",
      "Train loss: 0.431646, Val loss: 0.4377\n",
      "Val metric for class 0: 0.000000\n",
      "Val metric for class 1: 0.767909\n",
      "Val metric for class 2: 0.156354\n",
      "Val metric for class 3: 0.000000\n",
      "Val metric for class 4: 0.456388\n",
      "Val metric for class 5: 0.000000\n"
     ]
    },
    {
     "name": "stderr",
     "output_type": "stream",
     "text": [
      " 58%|█████▊    | 29/50 [22:20<16:17, 46.56s/it]"
     ]
    },
    {
     "name": "stdout",
     "output_type": "stream",
     "text": [
      "[INFO] EPOCH: 29/50\n",
      "Train loss: 0.434779, Val loss: 0.4315\n",
      "Val metric for class 0: 0.000000\n",
      "Val metric for class 1: 0.776104\n",
      "Val metric for class 2: 0.082759\n",
      "Val metric for class 3: 0.000000\n",
      "Val metric for class 4: 0.533548\n",
      "Val metric for class 5: 0.000000\n"
     ]
    },
    {
     "name": "stderr",
     "output_type": "stream",
     "text": [
      " 60%|██████    | 30/50 [23:04<15:18, 45.94s/it]"
     ]
    },
    {
     "name": "stdout",
     "output_type": "stream",
     "text": [
      "[INFO] EPOCH: 30/50\n",
      "Train loss: 0.443840, Val loss: 0.4432\n",
      "Val metric for class 0: 0.000000\n",
      "Val metric for class 1: 0.765652\n",
      "Val metric for class 2: 0.239547\n",
      "Val metric for class 3: 0.000000\n",
      "Val metric for class 4: 0.349336\n",
      "Val metric for class 5: 0.000000\n"
     ]
    },
    {
     "name": "stderr",
     "output_type": "stream",
     "text": [
      " 62%|██████▏   | 31/50 [24:25<17:52, 56.43s/it]"
     ]
    },
    {
     "name": "stdout",
     "output_type": "stream",
     "text": [
      "[INFO] EPOCH: 31/50\n",
      "Train loss: 0.429336, Val loss: 0.4377\n",
      "Val metric for class 0: 0.000000\n",
      "Val metric for class 1: 0.755113\n",
      "Val metric for class 2: 0.046609\n",
      "Val metric for class 3: 0.000000\n",
      "Val metric for class 4: 0.380541\n",
      "Val metric for class 5: 0.000000\n"
     ]
    },
    {
     "name": "stderr",
     "output_type": "stream",
     "text": [
      " 64%|██████▍   | 32/50 [25:10<15:54, 53.02s/it]"
     ]
    },
    {
     "name": "stdout",
     "output_type": "stream",
     "text": [
      "[INFO] EPOCH: 32/50\n",
      "Train loss: 0.434992, Val loss: 0.4395\n",
      "Val metric for class 0: 0.000000\n",
      "Val metric for class 1: 0.764231\n",
      "Val metric for class 2: 0.056137\n",
      "Val metric for class 3: 0.000000\n",
      "Val metric for class 4: 0.455278\n",
      "Val metric for class 5: 0.000000\n"
     ]
    },
    {
     "name": "stderr",
     "output_type": "stream",
     "text": [
      " 66%|██████▌   | 33/50 [26:01<14:47, 52.23s/it]"
     ]
    },
    {
     "name": "stdout",
     "output_type": "stream",
     "text": [
      "[INFO] EPOCH: 33/50\n",
      "Train loss: 0.431267, Val loss: 0.4471\n",
      "Val metric for class 0: 0.000000\n",
      "Val metric for class 1: 0.752421\n",
      "Val metric for class 2: 0.070559\n",
      "Val metric for class 3: 0.000000\n",
      "Val metric for class 4: 0.357552\n",
      "Val metric for class 5: 0.000000\n"
     ]
    },
    {
     "name": "stderr",
     "output_type": "stream",
     "text": [
      " 68%|██████▊   | 34/50 [26:47<13:28, 50.53s/it]"
     ]
    },
    {
     "name": "stdout",
     "output_type": "stream",
     "text": [
      "[INFO] EPOCH: 34/50\n",
      "Train loss: 0.430311, Val loss: 0.4617\n",
      "Val metric for class 0: 0.000000\n",
      "Val metric for class 1: 0.767964\n",
      "Val metric for class 2: 0.091558\n",
      "Val metric for class 3: 0.000000\n",
      "Val metric for class 4: 0.650037\n",
      "Val metric for class 5: 0.000000\n"
     ]
    },
    {
     "name": "stderr",
     "output_type": "stream",
     "text": [
      " 70%|███████   | 35/50 [27:31<12:08, 48.56s/it]"
     ]
    },
    {
     "name": "stdout",
     "output_type": "stream",
     "text": [
      "[INFO] EPOCH: 35/50\n",
      "Train loss: 0.429107, Val loss: 0.4308\n",
      "Val metric for class 0: 0.000000\n",
      "Val metric for class 1: 0.763793\n",
      "Val metric for class 2: 0.102213\n",
      "Val metric for class 3: 0.000000\n",
      "Val metric for class 4: 0.420962\n",
      "Val metric for class 5: 0.000000\n"
     ]
    },
    {
     "name": "stderr",
     "output_type": "stream",
     "text": [
      " 72%|███████▏  | 36/50 [28:16<11:05, 47.56s/it]"
     ]
    },
    {
     "name": "stdout",
     "output_type": "stream",
     "text": [
      "[INFO] EPOCH: 36/50\n",
      "Train loss: 0.427451, Val loss: 0.4309\n",
      "Val metric for class 0: 0.000000\n",
      "Val metric for class 1: 0.783968\n",
      "Val metric for class 2: 0.221306\n",
      "Val metric for class 3: 0.000000\n",
      "Val metric for class 4: 0.538092\n",
      "Val metric for class 5: 0.000000\n"
     ]
    },
    {
     "name": "stderr",
     "output_type": "stream",
     "text": [
      " 74%|███████▍  | 37/50 [29:03<10:13, 47.19s/it]"
     ]
    },
    {
     "name": "stdout",
     "output_type": "stream",
     "text": [
      "[INFO] EPOCH: 37/50\n",
      "Train loss: 0.428696, Val loss: 0.4352\n",
      "Val metric for class 0: 0.000000\n",
      "Val metric for class 1: 0.751126\n",
      "Val metric for class 2: 0.073534\n",
      "Val metric for class 3: 0.000000\n",
      "Val metric for class 4: 0.344867\n",
      "Val metric for class 5: 0.000000\n"
     ]
    },
    {
     "name": "stderr",
     "output_type": "stream",
     "text": [
      " 76%|███████▌  | 38/50 [29:49<09:22, 46.89s/it]"
     ]
    },
    {
     "name": "stdout",
     "output_type": "stream",
     "text": [
      "[INFO] EPOCH: 38/50\n",
      "Train loss: 0.429410, Val loss: 0.4443\n",
      "Val metric for class 0: 0.000000\n",
      "Val metric for class 1: 0.782346\n",
      "Val metric for class 2: 0.146437\n",
      "Val metric for class 3: 0.000000\n",
      "Val metric for class 4: 0.593582\n",
      "Val metric for class 5: 0.000000\n"
     ]
    },
    {
     "name": "stderr",
     "output_type": "stream",
     "text": [
      " 78%|███████▊  | 39/50 [31:13<10:38, 58.09s/it]"
     ]
    },
    {
     "name": "stdout",
     "output_type": "stream",
     "text": [
      "[INFO] EPOCH: 39/50\n",
      "Train loss: 0.434748, Val loss: 0.4374\n",
      "Val metric for class 0: 0.000000\n",
      "Val metric for class 1: 0.778870\n",
      "Val metric for class 2: 0.122091\n",
      "Val metric for class 3: 0.000000\n",
      "Val metric for class 4: 0.622788\n",
      "Val metric for class 5: 0.000000\n"
     ]
    },
    {
     "name": "stderr",
     "output_type": "stream",
     "text": [
      " 80%|████████  | 40/50 [31:58<09:01, 54.19s/it]"
     ]
    },
    {
     "name": "stdout",
     "output_type": "stream",
     "text": [
      "[INFO] EPOCH: 40/50\n",
      "Train loss: 0.423943, Val loss: 0.4342\n",
      "Val metric for class 0: 0.000000\n",
      "Val metric for class 1: 0.759841\n",
      "Val metric for class 2: 0.053359\n",
      "Val metric for class 3: 0.000000\n",
      "Val metric for class 4: 0.407230\n",
      "Val metric for class 5: 0.000000\n"
     ]
    },
    {
     "name": "stderr",
     "output_type": "stream",
     "text": [
      " 82%|████████▏ | 41/50 [32:43<07:42, 51.38s/it]"
     ]
    },
    {
     "name": "stdout",
     "output_type": "stream",
     "text": [
      "[INFO] EPOCH: 41/50\n",
      "Train loss: 0.422992, Val loss: 0.4227\n",
      "Val metric for class 0: 0.000000\n",
      "Val metric for class 1: 0.782720\n",
      "Val metric for class 2: 0.096288\n",
      "Val metric for class 3: 0.000000\n",
      "Val metric for class 4: 0.555045\n",
      "Val metric for class 5: 0.000000\n"
     ]
    },
    {
     "name": "stderr",
     "output_type": "stream",
     "text": [
      " 84%|████████▍ | 42/50 [33:29<06:38, 49.78s/it]"
     ]
    },
    {
     "name": "stdout",
     "output_type": "stream",
     "text": [
      "[INFO] EPOCH: 42/50\n",
      "Train loss: 0.420786, Val loss: 0.4368\n",
      "Val metric for class 0: 0.000000\n",
      "Val metric for class 1: 0.766764\n",
      "Val metric for class 2: 0.184994\n",
      "Val metric for class 3: 0.000000\n",
      "Val metric for class 4: 0.378665\n",
      "Val metric for class 5: 0.000000\n"
     ]
    },
    {
     "name": "stderr",
     "output_type": "stream",
     "text": [
      " 86%|████████▌ | 43/50 [34:15<05:40, 48.59s/it]"
     ]
    },
    {
     "name": "stdout",
     "output_type": "stream",
     "text": [
      "[INFO] EPOCH: 43/50\n",
      "Train loss: 0.427573, Val loss: 0.4318\n",
      "Val metric for class 0: 0.000000\n",
      "Val metric for class 1: 0.784078\n",
      "Val metric for class 2: 0.071540\n",
      "Val metric for class 3: 0.000000\n",
      "Val metric for class 4: 0.646073\n",
      "Val metric for class 5: 0.000000\n"
     ]
    },
    {
     "name": "stderr",
     "output_type": "stream",
     "text": [
      " 88%|████████▊ | 44/50 [35:03<04:51, 48.54s/it]"
     ]
    },
    {
     "name": "stdout",
     "output_type": "stream",
     "text": [
      "[INFO] EPOCH: 44/50\n",
      "Train loss: 0.423620, Val loss: 0.4275\n",
      "Val metric for class 0: 0.000000\n",
      "Val metric for class 1: 0.774018\n",
      "Val metric for class 2: 0.106709\n",
      "Val metric for class 3: 0.000000\n",
      "Val metric for class 4: 0.491559\n",
      "Val metric for class 5: 0.000000\n"
     ]
    },
    {
     "name": "stderr",
     "output_type": "stream",
     "text": [
      " 90%|█████████ | 45/50 [35:48<03:56, 47.36s/it]"
     ]
    },
    {
     "name": "stdout",
     "output_type": "stream",
     "text": [
      "[INFO] EPOCH: 45/50\n",
      "Train loss: 0.422687, Val loss: 0.4229\n",
      "Val metric for class 0: 0.000000\n",
      "Val metric for class 1: 0.787458\n",
      "Val metric for class 2: 0.094936\n",
      "Val metric for class 3: 0.000000\n",
      "Val metric for class 4: 0.613471\n",
      "Val metric for class 5: 0.000000\n"
     ]
    },
    {
     "name": "stderr",
     "output_type": "stream",
     "text": [
      " 92%|█████████▏| 46/50 [36:36<03:10, 47.53s/it]"
     ]
    },
    {
     "name": "stdout",
     "output_type": "stream",
     "text": [
      "[INFO] EPOCH: 46/50\n",
      "Train loss: 0.421124, Val loss: 0.4247\n",
      "Val metric for class 0: 0.000000\n",
      "Val metric for class 1: 0.782309\n",
      "Val metric for class 2: 0.122745\n",
      "Val metric for class 3: 0.000000\n",
      "Val metric for class 4: 0.546127\n",
      "Val metric for class 5: 0.000000\n"
     ]
    },
    {
     "name": "stderr",
     "output_type": "stream",
     "text": [
      " 94%|█████████▍| 47/50 [37:24<02:22, 47.65s/it]"
     ]
    },
    {
     "name": "stdout",
     "output_type": "stream",
     "text": [
      "[INFO] EPOCH: 47/50\n",
      "Train loss: 0.419195, Val loss: 0.4223\n",
      "Val metric for class 0: 0.000000\n",
      "Val metric for class 1: 0.788155\n",
      "Val metric for class 2: 0.110423\n",
      "Val metric for class 3: 0.000000\n",
      "Val metric for class 4: 0.595787\n",
      "Val metric for class 5: 0.000000\n"
     ]
    },
    {
     "name": "stderr",
     "output_type": "stream",
     "text": [
      " 96%|█████████▌| 48/50 [38:54<02:00, 60.43s/it]"
     ]
    },
    {
     "name": "stdout",
     "output_type": "stream",
     "text": [
      "[INFO] EPOCH: 48/50\n",
      "Train loss: 0.425833, Val loss: 0.4291\n",
      "Val metric for class 0: 0.000000\n",
      "Val metric for class 1: 0.784957\n",
      "Val metric for class 2: 0.104385\n",
      "Val metric for class 3: 0.000031\n",
      "Val metric for class 4: 0.571759\n",
      "Val metric for class 5: 0.000000\n"
     ]
    },
    {
     "name": "stderr",
     "output_type": "stream",
     "text": [
      " 98%|█████████▊| 49/50 [39:42<00:56, 56.59s/it]"
     ]
    },
    {
     "name": "stdout",
     "output_type": "stream",
     "text": [
      "[INFO] EPOCH: 49/50\n",
      "Train loss: 0.419895, Val loss: 0.4204\n",
      "Val metric for class 0: 0.000000\n",
      "Val metric for class 1: 0.785271\n",
      "Val metric for class 2: 0.121482\n",
      "Val metric for class 3: 0.000000\n",
      "Val metric for class 4: 0.563527\n",
      "Val metric for class 5: 0.000000\n"
     ]
    },
    {
     "name": "stderr",
     "output_type": "stream",
     "text": [
      "100%|██████████| 50/50 [40:30<00:00, 48.60s/it]"
     ]
    },
    {
     "name": "stdout",
     "output_type": "stream",
     "text": [
      "[INFO] EPOCH: 50/50\n",
      "Train loss: 0.416005, Val loss: 0.4269\n",
      "Val metric for class 0: 0.000000\n",
      "Val metric for class 1: 0.788160\n",
      "Val metric for class 2: 0.158572\n",
      "Val metric for class 3: 0.000000\n",
      "Val metric for class 4: 0.588710\n",
      "Val metric for class 5: 0.000000\n",
      "[INFO] total time taken to train the model: 2430.08s\n"
     ]
    },
    {
     "name": "stderr",
     "output_type": "stream",
     "text": [
      "\n"
     ]
    }
   ],
   "source": [
    "unet = training(all_train_img_names)"
   ]
  },
  {
   "cell_type": "code",
   "execution_count": 4,
   "metadata": {},
   "outputs": [],
   "source": [
    "# testingLoss = testing(unet, test_img_names)"
   ]
  },
  {
   "cell_type": "code",
   "execution_count": 5,
   "metadata": {},
   "outputs": [],
   "source": [
    "# def DiceLoss(input, target):\n",
    "#     input = torch.flatten(input)\n",
    "#     target = torch.flatten(target)\n",
    "\n",
    "#     intersection = (input * target).sum()\n",
    "#     dice_coef = (2.0*intersection)/(input.sum()+target.sum())\n",
    "\n",
    "#     return 1 - dice_coef"
   ]
  },
  {
   "cell_type": "code",
   "execution_count": 6,
   "metadata": {},
   "outputs": [],
   "source": [
    "# metricFunc = smp.losses.DiceLoss(\"binary\")\n",
    "# realMask = torch.zeros((1,256,256))\n",
    "# predMask = torch.zeros((1,1,256,256))\n",
    "# realMask[0,0:256,0:256] = 1\n",
    "\n",
    "# print(realMask.shape)\n",
    "# print(predMask.shape)\n",
    "# print(torch.count_nonzero(realMask))\n",
    "# print(torch.count_nonzero(predMask))\n",
    "# print(metricFunc(predMask, realMask))\n",
    "# print(DiceLoss(predMask, realMask))"
   ]
  }
 ],
 "metadata": {
  "kernelspec": {
   "display_name": "Python 3.8.10 ('env': venv)",
   "language": "python",
   "name": "python3"
  },
  "language_info": {
   "codemirror_mode": {
    "name": "ipython",
    "version": 3
   },
   "file_extension": ".py",
   "mimetype": "text/x-python",
   "name": "python",
   "nbconvert_exporter": "python",
   "pygments_lexer": "ipython3",
   "version": "3.8.10"
  },
  "orig_nbformat": 4,
  "vscode": {
   "interpreter": {
    "hash": "de4631684bd2c882b6b797b2a828f7be340f598e9083880a321a8ea7c6fac874"
   }
  }
 },
 "nbformat": 4,
 "nbformat_minor": 2
}
