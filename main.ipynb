{
 "cells": [
  {
   "cell_type": "markdown",
   "metadata": {},
   "source": [
    "# Automated Gleason Grading"
   ]
  },
  {
   "cell_type": "markdown",
   "metadata": {},
   "source": [
    "## Imports"
   ]
  },
  {
   "cell_type": "code",
   "execution_count": 16,
   "metadata": {},
   "outputs": [],
   "source": [
    "import os\n",
    "\n",
    "import openslide\n",
    "import random\n",
    "import seaborn as sns\n",
    "import cv2\n",
    "\n",
    "# Torch packages\n",
    "import torch\n",
    "from torch.utils.data import Dataset\n",
    "from torch.nn import ConvTranspose2d\n",
    "from torch.nn import Conv2d\n",
    "from torch.nn import MaxPool2d\n",
    "from torch.nn import Module\n",
    "from torch.nn import ModuleList\n",
    "from torch.nn import ReLU\n",
    "from torchvision.transforms import CenterCrop\n",
    "from torch.nn import functional as F\n",
    "from torch.nn import BCEWithLogitsLoss\n",
    "from torch.optim import Adam\n",
    "from torch.utils.data import DataLoader\n",
    "from torchvision import transforms\n",
    "\n",
    "# General packages\n",
    "import pandas as pd\n",
    "import numpy as np\n",
    "import matplotlib\n",
    "import matplotlib.pyplot as plt\n",
    "import PIL\n",
    "import time\n",
    "from IPython.display import Image, display\n",
    "from imutils import paths\n",
    "from tqdm import tqdm\n",
    "from sklearn.model_selection import train_test_split\n",
    "\n",
    "# Plotly for the interactive viewer\n",
    "import plotly.graph_objs as go"
   ]
  },
  {
   "cell_type": "markdown",
   "metadata": {},
   "source": [
    "## Load Dataset"
   ]
  },
  {
   "cell_type": "code",
   "execution_count": 17,
   "metadata": {},
   "outputs": [],
   "source": [
    "# Location of the training images\n",
    "\n",
    "DATA_PATH = '../../ganz/data/panda_dataset'\n",
    "\n",
    "# image and mask directories\n",
    "data_dir = f'{DATA_PATH}/train_images'\n",
    "mask_dir = f'{DATA_PATH}/train_label_masks'\n",
    "\n",
    "\n",
    "# Location of training labels\n",
    "train = pd.read_csv(f'{DATA_PATH}/train.csv').set_index('image_id')\n",
    "test = pd.read_csv(f'{DATA_PATH}/test.csv')\n",
    "submission = pd.read_csv(f'{DATA_PATH}/sample_submission.csv')"
   ]
  },
  {
   "cell_type": "code",
   "execution_count": 25,
   "metadata": {},
   "outputs": [
    {
     "name": "stdout",
     "output_type": "stream",
     "text": [
      "cuda\n"
     ]
    }
   ],
   "source": [
    "# determine the device to be used for training and evaluation\n",
    "DEVICE = \"cuda\" if torch.cuda.is_available() else \"cpu\"\n",
    "print(DEVICE)\n",
    "# # determine if we will be pinning memory during data loading\n",
    "# PIN_MEMORY = True if DEVICE == \"cuda\" else False"
   ]
  },
  {
   "cell_type": "markdown",
   "metadata": {},
   "source": [
    "## Visualize Data"
   ]
  },
  {
   "cell_type": "markdown",
   "metadata": {},
   "source": [
    "### Sample Images"
   ]
  },
  {
   "cell_type": "code",
   "execution_count": 19,
   "metadata": {},
   "outputs": [],
   "source": [
    "# train_img_names = [\n",
    "#     '07a7ef0ba3bb0d6564a73f4f3e1c2293',\n",
    "#     '037504061b9fba71ef6e24c48c6df44d',\n",
    "#     '035b1edd3d1aeeffc77ce5d248a01a53',\n",
    "#     '059cbf902c5e42972587c8d17d49efed',\n",
    "#     '06a0cbd8fd6320ef1aa6f19342af2e68',\n",
    "#     '06eda4a6faca84e84a781fee2d5f47e1',\n",
    "#     '0a4b7a7499ed55c71033cefb0765e93d',\n",
    "#     '0838c82917cd9af681df249264d2769c',\n",
    "#     '046b35ae95374bfb48cdca8d7c83233f',\n",
    "#     '074c3e01525681a275a42282cd21cbde',\n",
    "#     '05abe25c883d508ecc15b6e857e59f32',\n",
    "#     '05f4e9415af9fdabc19109c980daf5ad',\n",
    "#     '060121a06476ef401d8a21d6567dee6d',\n",
    "#     '068b0e3be4c35ea983f77accf8351cc8',\n",
    "#     '08f055372c7b8a7e1df97c6586542ac8'\n",
    "# ]\n",
    "\n",
    "train_img_names = train.image_id\n",
    "print(train_img_names.head)"
   ]
  },
  {
   "cell_type": "markdown",
   "metadata": {},
   "source": [
    "### Display Images"
   ]
  },
  {
   "cell_type": "code",
   "execution_count": 20,
   "metadata": {},
   "outputs": [],
   "source": [
    "def display_images(slides): \n",
    "    f, ax = plt.subplots(5,3, figsize=(18,22))\n",
    "    for i, slide in enumerate(slides):\n",
    "        image = openslide.OpenSlide(os.path.join(data_dir, f'{slide}.tiff'))\n",
    "        # spacing = 1 / (float(image.properties['tiff.XResolution']) / 10000)\n",
    "        patch = image.read_region((1780,1950), 0, (256, 256))\n",
    "        ax[i//3, i%3].imshow(patch) \n",
    "        image.close()       \n",
    "        ax[i//3, i%3].axis('off')\n",
    "        \n",
    "        image_id = slide\n",
    "        data_provider = train.loc[slide, 'data_provider']\n",
    "        isup_grade = train.loc[slide, 'isup_grade']\n",
    "        gleason_score = train.loc[slide, 'gleason_score']\n",
    "        ax[i//3, i%3].set_title(f\"ID: {image_id}\\nSource: {data_provider} ISUP: {isup_grade} Gleason: {gleason_score}\")\n",
    "\n",
    "    plt.show()"
   ]
  },
  {
   "cell_type": "code",
   "execution_count": null,
   "metadata": {},
   "outputs": [],
   "source": [
    "display_images(train_img_names)"
   ]
  },
  {
   "cell_type": "markdown",
   "metadata": {},
   "source": [
    "### Visualize Masks"
   ]
  },
  {
   "cell_type": "code",
   "execution_count": 21,
   "metadata": {},
   "outputs": [],
   "source": [
    "def display_masks(slides): \n",
    "    f, ax = plt.subplots(5,3, figsize=(18,22))\n",
    "    for i, slide in enumerate(slides):\n",
    "        \n",
    "        mask = openslide.OpenSlide(os.path.join(mask_dir, f'{slide}_mask.tiff'))\n",
    "        mask_data = mask.read_region((0,0), mask.level_count - 1, mask.level_dimensions[-1])\n",
    "        cmap = matplotlib.colors.ListedColormap(['black', 'gray', 'green', 'yellow', 'orange', 'red'])\n",
    "\n",
    "        ax[i//3, i%3].imshow(np.asarray(mask_data)[:,:,0], cmap=cmap, interpolation='nearest', vmin=0, vmax=5) \n",
    "        mask.close()       \n",
    "        ax[i//3, i%3].axis('off')\n",
    "        \n",
    "        image_id = slide\n",
    "        data_provider = train.loc[slide, 'data_provider']\n",
    "        isup_grade = train.loc[slide, 'isup_grade']\n",
    "        gleason_score = train.loc[slide, 'gleason_score']\n",
    "        ax[i//3, i%3].set_title(f\"ID: {image_id}\\nSource: {data_provider} ISUP: {isup_grade} Gleason: {gleason_score}\")\n",
    "        f.tight_layout()\n",
    "        \n",
    "    plt.show()"
   ]
  },
  {
   "cell_type": "code",
   "execution_count": null,
   "metadata": {},
   "outputs": [],
   "source": [
    "display_masks(train_img_names)"
   ]
  },
  {
   "cell_type": "markdown",
   "metadata": {},
   "source": [
    "## Patch Segmentation"
   ]
  },
  {
   "cell_type": "markdown",
   "metadata": {},
   "source": [
    "### Initialize Globals"
   ]
  },
  {
   "cell_type": "code",
   "execution_count": 22,
   "metadata": {},
   "outputs": [],
   "source": [
    "# define the number of channels in the input, number of classes,\n",
    "# and number of levels in the U-Net model\n",
    "NUM_CHANNELS = 1\n",
    "NUM_CLASSES = 1\n",
    "NUM_LEVELS = 3\n",
    "# initialize learning rate, number of epochs to train for, and the batch size\n",
    "INIT_LR = 0.001\n",
    "NUM_EPOCHS = 40\n",
    "BATCH_SIZE = 64\n",
    "# define the input image dimensions\n",
    "BATCH_WIDTH = 256\n",
    "BATCH_HEIGHT = 256\n",
    "# define threshold to filter weak predictions\n",
    "THRESHOLD = 0.5\n",
    "\n",
    "# define the test split\n",
    "TEST_SPLIT = 0.15\n",
    "\n",
    "# define the path to the base output directory\n",
    "BASE_OUTPUT = \"../output\"\n",
    "# define the path to the output serialized model, model training\n",
    "# plot, and testing image paths\n",
    "MODEL_PATH = f\"{BASE_OUTPUT}/unet_tgs_salt.pth\"\n",
    "PLOT_PATH = f\"{BASE_OUTPUT}/plot.png\"\n",
    "TEST_PATHS = f\"{BASE_OUTPUT}/test_paths.txt\""
   ]
  },
  {
   "cell_type": "markdown",
   "metadata": {},
   "source": [
    "### Create Training Set"
   ]
  },
  {
   "cell_type": "code",
   "execution_count": 23,
   "metadata": {},
   "outputs": [],
   "source": [
    "def create_image_set(slides):\n",
    "  imgs = []\n",
    "  masks = []\n",
    "  for i, slide in enumerate(slides):\n",
    "    image = openslide.OpenSlide(os.path.join(data_dir, f'{slide}.tiff'))\n",
    "    mask = openslide.OpenSlide(os.path.join(mask_dir, f'{slide}_mask.tiff'))\n",
    "    # print(\"img level_count: \" + str(image.level_count))\n",
    "    # print(\"img level 0 dimension x: \" + str(image.dimensions[0]))\n",
    "    # print(\"img level 0 dimension y: \" + str(image.dimensions[1]))\n",
    "    # print(\"img level 1 dimension x: \" + str(image.level_dimensions[1][0]))\n",
    "    # print(\"img level 1 dimension y: \" + str(image.level_dimensions[1][1]))\n",
    "    # print(\"img level 2 dimension x: \" + str(image.level_dimensions[2][0]))\n",
    "    # print(\"img level 2 dimension y: \" + str(image.level_dimensions[2][1]))\n",
    "    # print(\"mask level 0 dimension x: \" + str(mask.dimensions[0]))\n",
    "    # print(\"mask level 0 dimension y: \" + str(mask.dimensions[1]))\n",
    "    max_x = image.dimensions[0] - (image.dimensions[0] % BATCH_WIDTH)\n",
    "    max_y = image.dimensions[1] - (image.dimensions[1] % BATCH_HEIGHT)\n",
    "    x = 0\n",
    "    while x < max_x:\n",
    "      y = 0\n",
    "      while y < max_y:\n",
    "        imgs.append(image.read_region((x,y), 0, (BATCH_WIDTH, BATCH_HEIGHT)))\n",
    "        masks.append(mask.read_region((x,y), 0, (BATCH_WIDTH, BATCH_HEIGHT)))\n",
    "        y+=BATCH_HEIGHT\n",
    "      x+=BATCH_WIDTH\n",
    "  return imgs, masks"
   ]
  },
  {
   "cell_type": "code",
   "execution_count": 24,
   "metadata": {},
   "outputs": [
    {
     "name": "stdout",
     "output_type": "stream",
     "text": [
      "img level 0 dimension x: 10496\n",
      "img level 0 dimension y: 24832\n",
      "mask level 0 dimension x: 10496\n",
      "mask level 0 dimension y: 24832\n"
     ]
    },
    {
     "data": {
      "text/plain": [
       "([], [])"
      ]
     },
     "execution_count": 24,
     "metadata": {},
     "output_type": "execute_result"
    }
   ],
   "source": [
    "create_image_set(train_img_names[1:2])"
   ]
  },
  {
   "cell_type": "markdown",
   "metadata": {},
   "source": [
    "### Dataset Class"
   ]
  },
  {
   "cell_type": "code",
   "execution_count": null,
   "metadata": {},
   "outputs": [],
   "source": [
    "class SegmentationDatasetv0(Dataset):\n",
    "\tdef __init__(self, img_list, mask_list):\n",
    "\t\tself.img_list = img_list\n",
    "\t\tself.mask_list = mask_list\n",
    "\n",
    "\tdef __len__(self):\n",
    "\t\t# return the number of total samples contained in the dataset\n",
    "\t\treturn len(self.img_list)\n",
    "    \n",
    "\tdef __getitem__(self, idx):\n",
    "\t\t# grab the image and mask from the current index\n",
    "\t\timg = self.img_list[idx]\n",
    "\t\tmask = self.mask_list[idx]\n",
    "\t\t# return a tuple of the image and its mask\n",
    "\t\treturn (image, mask)"
   ]
  },
  {
   "cell_type": "markdown",
   "metadata": {},
   "source": [
    "### UNET Modules"
   ]
  },
  {
   "cell_type": "code",
   "execution_count": null,
   "metadata": {},
   "outputs": [],
   "source": [
    "class Block(Module):\n",
    "\tdef __init__(self, inChannels, outChannels):\n",
    "\t\tsuper().__init__()\n",
    "\t\t# store the convolution and RELU layers\n",
    "\t\tself.conv1 = Conv2d(inChannels, outChannels, 3)\n",
    "\t\tself.relu = ReLU()\n",
    "\t\tself.conv2 = Conv2d(outChannels, outChannels, 3)\n",
    "    \n",
    "\tdef forward(self, x):\n",
    "\t\t# apply CONV => RELU => CONV block to the inputs and return it\n",
    "\t\treturn self.conv2(self.relu(self.conv1(x)))"
   ]
  },
  {
   "cell_type": "code",
   "execution_count": null,
   "metadata": {},
   "outputs": [],
   "source": [
    "class Encoder(Module):\n",
    "\tdef __init__(self, channels=(3, 16, 32, 64)):\n",
    "\t\tsuper().__init__()\n",
    "\t\t# store the encoder blocks and maxpooling layer\n",
    "\t\tself.encBlocks = ModuleList(\n",
    "\t\t\t[Block(channels[i], channels[i + 1])\n",
    "\t\t\t \tfor i in range(len(channels) - 1)])\n",
    "\t\tself.pool = MaxPool2d(2)\n",
    "    \n",
    "\tdef forward(self, x):\n",
    "\t\t# initialize an empty list to store the intermediate outputs\n",
    "\t\tblockOutputs = []\n",
    "\t\t# loop through the encoder blocks\n",
    "\t\tfor block in self.encBlocks:\n",
    "\t\t\t# pass the inputs through the current encoder block, store\n",
    "\t\t\t# the outputs, and then apply maxpooling on the output\n",
    "\t\t\tx = block(x)\n",
    "\t\t\tblockOutputs.append(x)\n",
    "\t\t\tx = self.pool(x)\n",
    "\t\t# return the list containing the intermediate outputs\n",
    "\t\treturn blockOutputs"
   ]
  },
  {
   "cell_type": "code",
   "execution_count": null,
   "metadata": {},
   "outputs": [],
   "source": [
    "class Decoder(Module):\n",
    "\tdef __init__(self, channels=(64, 32, 16)):\n",
    "\t\tsuper().__init__()\n",
    "\t\t# initialize the number of channels, upsampler blocks, and\n",
    "\t\t# decoder blocks\n",
    "\t\tself.channels = channels\n",
    "\t\tself.upconvs = ModuleList(\n",
    "\t\t\t[ConvTranspose2d(channels[i], channels[i + 1], 2, 2)\n",
    "\t\t\t \tfor i in range(len(channels) - 1)])\n",
    "\t\tself.dec_blocks = ModuleList(\n",
    "\t\t\t[Block(channels[i], channels[i + 1])\n",
    "\t\t\t \tfor i in range(len(channels) - 1)])\n",
    "\n",
    "\tdef forward(self, x, encFeatures):\n",
    "\t\t# loop through the number of channels\n",
    "\t\tfor i in range(len(self.channels) - 1):\n",
    "\t\t\t# pass the inputs through the upsampler blocks\n",
    "\t\t\tx = self.upconvs[i](x)\n",
    "\t\t\t# crop the current features from the encoder blocks,\n",
    "\t\t\t# concatenate them with the current upsampled features,\n",
    "\t\t\t# and pass the concatenated output through the current\n",
    "\t\t\t# decoder block\n",
    "\t\t\tencFeat = self.crop(encFeatures[i], x)\n",
    "\t\t\tx = torch.cat([x, encFeat], dim=1)\n",
    "\t\t\tx = self.dec_blocks[i](x)\n",
    "\t\t# return the final decoder output\n",
    "\t\treturn x\n",
    "    \n",
    "\tdef crop(self, encFeatures, x):\n",
    "\t\t# grab the dimensions of the inputs, and crop the encoder\n",
    "\t\t# features to match the dimensions\n",
    "\t\t(_, _, H, W) = x.shape\n",
    "\t\tencFeatures = CenterCrop([H, W])(encFeatures)\n",
    "\t\t# return the cropped features\n",
    "\t\treturn encFeatures"
   ]
  },
  {
   "cell_type": "code",
   "execution_count": null,
   "metadata": {},
   "outputs": [],
   "source": [
    "class UNet(Module):\n",
    "\tdef __init__(self, encChannels=(3, 16, 32, 64),\n",
    "\t\t decChannels=(64, 32, 16),\n",
    "\t\t nbClasses=1, retainDim=True,\n",
    "\t\t outSize=(BATCH_HEIGHT,  BATCH_WIDTH)):\n",
    "\t\tsuper().__init__()\n",
    "\t\t# initialize the encoder and decoder\n",
    "\t\tself.encoder = Encoder(encChannels)\n",
    "\t\tself.decoder = Decoder(decChannels)\n",
    "\t\t# initialize the regression head and store the class variables\n",
    "\t\tself.head = Conv2d(decChannels[-1], nbClasses, 1)\n",
    "\t\tself.retainDim = retainDim\n",
    "\t\tself.outSize = outSize\n",
    "\n",
    "  def forward(self, x):\n",
    "\t\t# grab the features from the encoder\n",
    "\t\tencFeatures = self.encoder(x)\n",
    "\t\t# pass the encoder features through decoder making sure that\n",
    "\t\t# their dimensions are suited for concatenation\n",
    "\t\tdecFeatures = self.decoder(encFeatures[::-1][0],\n",
    "\t\t\tencFeatures[::-1][1:])\n",
    "\t\t# pass the decoder features through the regression head to\n",
    "\t\t# obtain the segmentation mask\n",
    "\t\tmap = self.head(decFeatures)\n",
    "\t\t# check to see if we are retaining the original output\n",
    "\t\t# dimensions and if so, then resize the output to match them\n",
    "\t\tif self.retainDim:\n",
    "\t\t\tmap = F.interpolate(map, self.outSize)\n",
    "\t\t# return the segmentation map\n",
    "\t\treturn map"
   ]
  },
  {
   "cell_type": "markdown",
   "metadata": {},
   "source": [
    "### Training"
   ]
  },
  {
   "cell_type": "code",
   "execution_count": null,
   "metadata": {},
   "outputs": [],
   "source": [
    "# # define transformations\n",
    "# transforms = transforms.Compose([transforms.ToPILImage(),\n",
    "#  \ttransforms.Resize((config.INPUT_IMAGE_HEIGHT,\n",
    "# \t\tconfig.INPUT_IMAGE_WIDTH)),\n",
    "# \ttransforms.ToTensor()])\n",
    "\n",
    "all_train_imgs, all_train_masks = create_image_set(train_img_names)\n",
    "\n",
    "# partition the data into training and validation splits using 85% of\n",
    "# the data for training and the remaining 15% for validation\n",
    "split = train_test_split(all_train_imgs, all_train_masks,\n",
    "\ttest_size=TEST_SPLIT, random_state=42)\n",
    "\n",
    "# unpack the data split\n",
    "(train_imgs, val_imgs) = split[:2]\n",
    "(train_masks, val_masks) = split[2:]\n",
    "\n",
    "# create the train and validation datasets\n",
    "trainDS = SegmentationDataset(train_imgs=train_imgs, train_masks=train_masks)\n",
    "valDS = SegmentationDataset(train_imgs=val_imgs, train_masks=val_masks)\n",
    "print(f\"[INFO] found {len(trainDS)} examples in the training set...\")\n",
    "print(f\"[INFO] found {len(valDS)} examples in the test set...\")\n",
    "\n",
    "# create the training and validation data loaders\n",
    "trainLoader = DataLoader(trainDS, shuffle=True,\n",
    "\tbatch_size=BATCH_SIZE, num_workers=os.cpu_count())\n",
    "valLoader = DataLoader(valDS, shuffle=False,\n",
    "\tbatch_size=BATCH_SIZE, num_workers=os.cpu_count())\n",
    "\n",
    "# initialize our UNet model\n",
    "unet = UNet().to(DEVICE)\n",
    "# initialize loss function and optimizer\n",
    "lossFunc = BCEWithLogitsLoss()\n",
    "opt = Adam(unet.parameters(), lr=INIT_LR)\n",
    "# calculate steps per epoch for training and validation set\n",
    "trainSteps = len(trainDS) // BATCH_SIZE\n",
    "valSteps = len(valDS) // BATCH_SIZE\n",
    "# initialize a dictionary to store training history\n",
    "H = {\"train_loss\": [], \"val_loss\": []}\n",
    "\n",
    "# loop over epochs\n",
    "print(\"[INFO] training the network...\")\n",
    "startTime = time.time()\n",
    "for e in tqdm(range(NUM_EPOCHS)):\n",
    "\t# set the model in training mode\n",
    "\tunet.train()\n",
    "\t# initialize the total training and validation loss\n",
    "\ttotalTrainLoss = 0\n",
    "\ttotalValLoss = 0\n",
    "\t# loop over the training set\n",
    "\tfor (i, (x, y)) in enumerate(trainLoader):\n",
    "\t\t# send the input to the device\n",
    "\t\t(x, y) = (x.to(DEVICE), y.to(DEVICE))\n",
    "\t\t# perform a forward pass and calculate the training loss\n",
    "\t\tpred = unet(x)\n",
    "\t\tloss = lossFunc(pred, y)\n",
    "\t\t# first, zero out any previously accumulated gradients, then\n",
    "\t\t# perform backpropagation, and then update model parameters\n",
    "\t\topt.zero_grad()\n",
    "\t\tloss.backward()\n",
    "\t\topt.step()\n",
    "\t\t# add the loss to the total training loss so far\n",
    "\t\ttotalTrainLoss += loss\n",
    "    \n",
    "  # switch off autograd\n",
    "\twith torch.no_grad():\n",
    "\t\t# set the model in evaluation mode\n",
    "\t\tunet.eval()\n",
    "\t\t# loop over the validation set\n",
    "\t\tfor (x, y) in valLoader:\n",
    "\t\t\t# send the input to the device\n",
    "\t\t\t(x, y) = (x.to(DEVICE), y.to(DEVICE))\n",
    "\t\t\t# make the predictions and calculate the validation loss\n",
    "\t\t\tpred = unet(x)\n",
    "\t\t\ttotalValLoss += lossFunc(pred, y)\n",
    "\n",
    "\t# calculate the average training and validation loss\n",
    "\tavgTrainLoss = totalTrainLoss / trainSteps\n",
    "\tavgValLoss = totalValLoss / valSteps\n",
    "\t# update our training history\n",
    "\tH[\"train_loss\"].append(avgTrainLoss.cpu().detach().numpy())\n",
    "\tH[\"val_loss\"].append(avgValLoss.cpu().detach().numpy())\n",
    "\t# print the model training and validation information\n",
    "\tprint(\"[INFO] EPOCH: {}/{}\".format(e + 1, NUM_EPOCHS))\n",
    "\tprint(\"Train loss: {:.6f}, Val loss: {:.4f}\".format(\n",
    "\t\tavgTrainLoss, avgValLoss))\n",
    "\n",
    "# display the total time needed to perform the training\n",
    "endTime = time.time()\n",
    "print(\"[INFO] total time taken to train the model: {:.2f}s\".format(\n",
    "\tendTime - startTime))\n",
    "\n",
    "# plot the training loss\n",
    "plt.style.use(\"ggplot\")\n",
    "plt.figure()\n",
    "plt.plot(H[\"train_loss\"], label=\"train_loss\")\n",
    "plt.plot(H[\"val_loss\"], label=\"val_loss\")\n",
    "plt.title(\"Training Loss on Dataset\")\n",
    "plt.xlabel(\"Epoch #\")\n",
    "plt.ylabel(\"Loss\")\n",
    "plt.legend(loc=\"lower left\")\n",
    "plt.savefig(PLOT_PATH)\n",
    "# serialize the model to disk\n",
    "torch.save(unet, MODEL_PATH)"
   ]
  },
  {
   "cell_type": "markdown",
   "metadata": {},
   "source": [
    "## Testing"
   ]
  },
  {
   "cell_type": "code",
   "execution_count": null,
   "metadata": {},
   "outputs": [],
   "source": [
    "def prepare_plot(origImage, origMask, predMask):\n",
    "\t# initialize our figure\n",
    "\tfigure, ax = plt.subplots(nrows=1, ncols=3, figsize=(10, 10))\n",
    "\t# plot the original image, its mask, and the predicted mask\n",
    "\tax[0].imshow(origImage)\n",
    "\tax[1].imshow(origMask)\n",
    "\tax[2].imshow(predMask)\n",
    "\t# set the titles of the subplots\n",
    "\tax[0].set_title(\"Image\")\n",
    "\tax[1].set_title(\"Original Mask\")\n",
    "\tax[2].set_title(\"Predicted Mask\")\n",
    "\t# set the layout of the figure and display it\n",
    "\tfigure.tight_layout()\n",
    "\tfigure.show()\n",
    "\n",
    "def make_predictions(model, test_image, test_mask):\n",
    "\t# set model to evaluation mode\n",
    "\tmodel.eval()\n",
    "\t# turn off gradient tracking\n",
    "\twith torch.no_grad():\n",
    "\t\t# resize the image and make a copy of it for visualization\n",
    "\t\t# test_image = cv2.resize(test_image, (BATCH_WIDTH, BATCH_HEIGHT))\n",
    "\t\torig = test_image.copy()\n",
    "\n",
    "  \t# make the channel axis to be the leading one, add a batch\n",
    "\t\t# dimension, create a PyTorch tensor, and flash it to the\n",
    "\t\t# current device\n",
    "\t\ttest_image = np.transpose(test_image, (2, 0, 1))\n",
    "\t\ttest_image = np.expand_dims(test_image, 0)\n",
    "\t\ttest_image = torch.from_numpy(test_image).to(DEVICE)\n",
    "\t\t# make the prediction, pass the results through the sigmoid\n",
    "\t\t# function, and convert the result to a NumPy array\n",
    "\t\tpredMask = model(test_image).squeeze()\n",
    "\t\tpredMask = torch.sigmoid(predMask)\n",
    "\t\tpredMask = predMask.cpu().numpy()\n",
    "\t\t# filter out the weak predictions and convert them to integers\n",
    "\t\tpredMask = (predMask > THRESHOLD) * 255\n",
    "\t\tpredMask = predMask.astype(np.uint8)\n",
    "\t\t# prepare a plot for visualization\n",
    "\t\tprepare_plot(orig, gtMask, predMask)"
   ]
  },
  {
   "cell_type": "code",
   "execution_count": null,
   "metadata": {},
   "outputs": [],
   "source": [
    "# get test_img ids\n",
    "test_img_names = test.image_id\n",
    "\n",
    "# load the image paths in our testing file and randomly select 10 image paths\n",
    "print(\"[INFO] loading up test images...\")\n",
    "random_test_img_names = np.random.choice(test_img_names, size=10)\n",
    "test_imgs, test_masks = create_image_set(random_test_img_names)\n",
    "\n",
    "# load our model from disk and flash it to the current device\n",
    "print(\"[INFO] load up model...\")\n",
    "unet = torch.load(MODEL_PATH).to(DEVICE)\n",
    "\n",
    "# iterate over the randomly selected test image paths\n",
    "for test_img, test_mask in zip(test_imgs, test_masks):\n",
    "\t# make predictions and visualize the results\n",
    "\tmake_predictions(unet, test_img, test_mask)"
   ]
  }
 ],
 "metadata": {
  "kernelspec": {
   "display_name": "Python 3.8.10 ('env': venv)",
   "language": "python",
   "name": "python3"
  },
  "language_info": {
   "codemirror_mode": {
    "name": "ipython",
    "version": 3
   },
   "file_extension": ".py",
   "mimetype": "text/x-python",
   "name": "python",
   "nbconvert_exporter": "python",
   "pygments_lexer": "ipython3",
   "version": "3.8.10"
  },
  "orig_nbformat": 4,
  "vscode": {
   "interpreter": {
    "hash": "de4631684bd2c882b6b797b2a828f7be340f598e9083880a321a8ea7c6fac874"
   }
  }
 },
 "nbformat": 4,
 "nbformat_minor": 2
}
